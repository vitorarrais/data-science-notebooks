{
  "nbformat": 4,
  "nbformat_minor": 0,
  "metadata": {
    "language_info": {
      "codemirror_mode": {
        "name": "ipython",
        "version": 3
      },
      "file_extension": ".py",
      "mimetype": "text/x-python",
      "name": "python",
      "nbconvert_exporter": "python",
      "pygments_lexer": "ipython3",
      "version": "3.7.6-final"
    },
    "orig_nbformat": 2,
    "kernelspec": {
      "name": "python3",
      "display_name": "Python 3"
    },
    "colab": {
      "name": "airbnb-berlin.ipynb",
      "provenance": []
    }
  },
  "cells": [
    {
      "cell_type": "markdown",
      "metadata": {
        "id": "8p2Jfd94IYre",
        "colab_type": "text"
      },
      "source": [
        "# AirBnb Berlin 2020"
      ]
    },
    {
      "cell_type": "markdown",
      "metadata": {
        "id": "9y_VXUwPIDlW",
        "colab_type": "text"
      },
      "source": [
        "# Questions\n",
        "1.What are the most important facilities in listing in order to get a good review rating!?  \n",
        "2.How hot is the accomodation market in Seattle - EUA? (based on airbnb's data).  \n",
        "3.How did the average price evolve in 2016?  \n",
        "4.Heat map of hotest neighbourhood / of price?  "
      ]
    },
    {
      "cell_type": "code",
      "metadata": {
        "id": "dD17v1EgH61J",
        "colab_type": "code",
        "colab": {}
      },
      "source": [
        "import pandas as pd \n",
        "import numpy as np\n",
        "import matplotlib.pyplot as plt\n",
        "%matplotlib inline"
      ],
      "execution_count": 0,
      "outputs": []
    },
    {
      "cell_type": "code",
      "metadata": {
        "id": "mGNgXdV9BmKM",
        "colab_type": "code",
        "colab": {
          "base_uri": "https://localhost:8080/",
          "height": 34
        },
        "outputId": "85be577a-41e9-460c-ac42-c71317223b0d"
      },
      "source": [
        "from google.colab import drive\n",
        "drive.mount('/content/drive')"
      ],
      "execution_count": 244,
      "outputs": [
        {
          "output_type": "stream",
          "text": [
            "Drive already mounted at /content/drive; to attempt to forcibly remount, call drive.mount(\"/content/drive\", force_remount=True).\n"
          ],
          "name": "stdout"
        }
      ]
    },
    {
      "cell_type": "code",
      "metadata": {
        "id": "JWxsZm56Cimv",
        "colab_type": "code",
        "colab": {
          "base_uri": "https://localhost:8080/",
          "height": 746
        },
        "outputId": "091049dd-0b0e-4f88-a95b-0bb92dc08d4c"
      },
      "source": [
        "df_listings = pd.read_csv('/content/drive/My Drive/data-science-notebooks/airbnb-berlin/listings.csv')\n",
        "df_listings.head()"
      ],
      "execution_count": 245,
      "outputs": [
        {
          "output_type": "stream",
          "text": [
            "/usr/local/lib/python3.6/dist-packages/IPython/core/interactiveshell.py:2718: DtypeWarning: Columns (43,61,62) have mixed types.Specify dtype option on import or set low_memory=False.\n",
            "  interactivity=interactivity, compiler=compiler, result=result)\n"
          ],
          "name": "stderr"
        },
        {
          "output_type": "execute_result",
          "data": {
            "text/html": [
              "<div>\n",
              "<style scoped>\n",
              "    .dataframe tbody tr th:only-of-type {\n",
              "        vertical-align: middle;\n",
              "    }\n",
              "\n",
              "    .dataframe tbody tr th {\n",
              "        vertical-align: top;\n",
              "    }\n",
              "\n",
              "    .dataframe thead th {\n",
              "        text-align: right;\n",
              "    }\n",
              "</style>\n",
              "<table border=\"1\" class=\"dataframe\">\n",
              "  <thead>\n",
              "    <tr style=\"text-align: right;\">\n",
              "      <th></th>\n",
              "      <th>id</th>\n",
              "      <th>listing_url</th>\n",
              "      <th>scrape_id</th>\n",
              "      <th>last_scraped</th>\n",
              "      <th>name</th>\n",
              "      <th>summary</th>\n",
              "      <th>space</th>\n",
              "      <th>description</th>\n",
              "      <th>experiences_offered</th>\n",
              "      <th>neighborhood_overview</th>\n",
              "      <th>notes</th>\n",
              "      <th>transit</th>\n",
              "      <th>access</th>\n",
              "      <th>interaction</th>\n",
              "      <th>house_rules</th>\n",
              "      <th>thumbnail_url</th>\n",
              "      <th>medium_url</th>\n",
              "      <th>picture_url</th>\n",
              "      <th>xl_picture_url</th>\n",
              "      <th>host_id</th>\n",
              "      <th>host_url</th>\n",
              "      <th>host_name</th>\n",
              "      <th>host_since</th>\n",
              "      <th>host_location</th>\n",
              "      <th>host_about</th>\n",
              "      <th>host_response_time</th>\n",
              "      <th>host_response_rate</th>\n",
              "      <th>host_acceptance_rate</th>\n",
              "      <th>host_is_superhost</th>\n",
              "      <th>host_thumbnail_url</th>\n",
              "      <th>host_picture_url</th>\n",
              "      <th>host_neighbourhood</th>\n",
              "      <th>host_listings_count</th>\n",
              "      <th>host_total_listings_count</th>\n",
              "      <th>host_verifications</th>\n",
              "      <th>host_has_profile_pic</th>\n",
              "      <th>host_identity_verified</th>\n",
              "      <th>street</th>\n",
              "      <th>neighbourhood</th>\n",
              "      <th>neighbourhood_cleansed</th>\n",
              "      <th>...</th>\n",
              "      <th>extra_people</th>\n",
              "      <th>minimum_nights</th>\n",
              "      <th>maximum_nights</th>\n",
              "      <th>minimum_minimum_nights</th>\n",
              "      <th>maximum_minimum_nights</th>\n",
              "      <th>minimum_maximum_nights</th>\n",
              "      <th>maximum_maximum_nights</th>\n",
              "      <th>minimum_nights_avg_ntm</th>\n",
              "      <th>maximum_nights_avg_ntm</th>\n",
              "      <th>calendar_updated</th>\n",
              "      <th>has_availability</th>\n",
              "      <th>availability_30</th>\n",
              "      <th>availability_60</th>\n",
              "      <th>availability_90</th>\n",
              "      <th>availability_365</th>\n",
              "      <th>calendar_last_scraped</th>\n",
              "      <th>number_of_reviews</th>\n",
              "      <th>number_of_reviews_ltm</th>\n",
              "      <th>first_review</th>\n",
              "      <th>last_review</th>\n",
              "      <th>review_scores_rating</th>\n",
              "      <th>review_scores_accuracy</th>\n",
              "      <th>review_scores_cleanliness</th>\n",
              "      <th>review_scores_checkin</th>\n",
              "      <th>review_scores_communication</th>\n",
              "      <th>review_scores_location</th>\n",
              "      <th>review_scores_value</th>\n",
              "      <th>requires_license</th>\n",
              "      <th>license</th>\n",
              "      <th>jurisdiction_names</th>\n",
              "      <th>instant_bookable</th>\n",
              "      <th>is_business_travel_ready</th>\n",
              "      <th>cancellation_policy</th>\n",
              "      <th>require_guest_profile_picture</th>\n",
              "      <th>require_guest_phone_verification</th>\n",
              "      <th>calculated_host_listings_count</th>\n",
              "      <th>calculated_host_listings_count_entire_homes</th>\n",
              "      <th>calculated_host_listings_count_private_rooms</th>\n",
              "      <th>calculated_host_listings_count_shared_rooms</th>\n",
              "      <th>reviews_per_month</th>\n",
              "    </tr>\n",
              "  </thead>\n",
              "  <tbody>\n",
              "    <tr>\n",
              "      <th>0</th>\n",
              "      <td>3176</td>\n",
              "      <td>https://www.airbnb.com/rooms/3176</td>\n",
              "      <td>20200317045838</td>\n",
              "      <td>2020-03-17</td>\n",
              "      <td>Fabulous Flat in great Location</td>\n",
              "      <td>This beautiful first floor apartment  is situa...</td>\n",
              "      <td>1st floor (68m2) apartment on Kollwitzplatz/ P...</td>\n",
              "      <td>This beautiful first floor apartment  is situa...</td>\n",
              "      <td>none</td>\n",
              "      <td>The neighbourhood is famous for its variety of...</td>\n",
              "      <td>We welcome FAMILIES and cater especially for y...</td>\n",
              "      <td>We are 5 min walk  away from the tram M2, whic...</td>\n",
              "      <td>The apartment will be entirely yours. We are c...</td>\n",
              "      <td>Feel free to ask any questions prior to bookin...</td>\n",
              "      <td>It’s a non smoking flat, which likes to be tre...</td>\n",
              "      <td>NaN</td>\n",
              "      <td>NaN</td>\n",
              "      <td>https://a0.muscache.com/im/pictures/243355/84a...</td>\n",
              "      <td>NaN</td>\n",
              "      <td>3718</td>\n",
              "      <td>https://www.airbnb.com/users/show/3718</td>\n",
              "      <td>Britta</td>\n",
              "      <td>2008-10-19</td>\n",
              "      <td>Coledale, New South Wales, Australia</td>\n",
              "      <td>We love to travel ourselves a lot and prefer t...</td>\n",
              "      <td>within a few hours</td>\n",
              "      <td>100%</td>\n",
              "      <td>80%</td>\n",
              "      <td>f</td>\n",
              "      <td>https://a0.muscache.com/im/users/3718/profile_...</td>\n",
              "      <td>https://a0.muscache.com/im/users/3718/profile_...</td>\n",
              "      <td>Prenzlauer Berg</td>\n",
              "      <td>1.0</td>\n",
              "      <td>1.0</td>\n",
              "      <td>['email', 'phone', 'facebook', 'reviews', 'man...</td>\n",
              "      <td>t</td>\n",
              "      <td>t</td>\n",
              "      <td>Berlin, Berlin, Germany</td>\n",
              "      <td>Prenzlauer Berg</td>\n",
              "      <td>Prenzlauer Berg Südwest</td>\n",
              "      <td>...</td>\n",
              "      <td>$20.00</td>\n",
              "      <td>62</td>\n",
              "      <td>1125</td>\n",
              "      <td>62</td>\n",
              "      <td>62</td>\n",
              "      <td>1125</td>\n",
              "      <td>1125</td>\n",
              "      <td>62.0</td>\n",
              "      <td>1125.0</td>\n",
              "      <td>3 weeks ago</td>\n",
              "      <td>t</td>\n",
              "      <td>0</td>\n",
              "      <td>0</td>\n",
              "      <td>0</td>\n",
              "      <td>140</td>\n",
              "      <td>2020-03-17</td>\n",
              "      <td>145</td>\n",
              "      <td>1</td>\n",
              "      <td>2009-06-20</td>\n",
              "      <td>2019-06-27</td>\n",
              "      <td>93.0</td>\n",
              "      <td>9.0</td>\n",
              "      <td>9.0</td>\n",
              "      <td>9.0</td>\n",
              "      <td>9.0</td>\n",
              "      <td>10.0</td>\n",
              "      <td>9.0</td>\n",
              "      <td>t</td>\n",
              "      <td>NaN</td>\n",
              "      <td>NaN</td>\n",
              "      <td>f</td>\n",
              "      <td>f</td>\n",
              "      <td>strict_14_with_grace_period</td>\n",
              "      <td>f</td>\n",
              "      <td>f</td>\n",
              "      <td>1</td>\n",
              "      <td>1</td>\n",
              "      <td>0</td>\n",
              "      <td>0</td>\n",
              "      <td>1.11</td>\n",
              "    </tr>\n",
              "    <tr>\n",
              "      <th>1</th>\n",
              "      <td>3309</td>\n",
              "      <td>https://www.airbnb.com/rooms/3309</td>\n",
              "      <td>20200317045838</td>\n",
              "      <td>2020-03-17</td>\n",
              "      <td>BerlinSpot Schöneberg near KaDeWe</td>\n",
              "      <td>First of all: I prefer short-notice bookings. ...</td>\n",
              "      <td>Your room is really big and has 26 sqm, is ver...</td>\n",
              "      <td>First of all: I prefer short-notice bookings. ...</td>\n",
              "      <td>none</td>\n",
              "      <td>My flat is in the middle of West-Berlin, direc...</td>\n",
              "      <td>The flat is a strictly non-smoking facility! A...</td>\n",
              "      <td>The public transportation is excellent: Severa...</td>\n",
              "      <td>I do have a strictly non-smoker-flat.  Keep th...</td>\n",
              "      <td>I'm working as a freelancing photographer. My ...</td>\n",
              "      <td>House-Rules and Information ..............(deu...</td>\n",
              "      <td>NaN</td>\n",
              "      <td>NaN</td>\n",
              "      <td>https://a0.muscache.com/im/pictures/29054294/b...</td>\n",
              "      <td>NaN</td>\n",
              "      <td>4108</td>\n",
              "      <td>https://www.airbnb.com/users/show/4108</td>\n",
              "      <td>Jana</td>\n",
              "      <td>2008-11-07</td>\n",
              "      <td>Berlin, Berlin, Germany</td>\n",
              "      <td>ENJOY EVERY DAY AS IF IT'S YOUR LAST!!! \\r\\n\\r...</td>\n",
              "      <td>within a day</td>\n",
              "      <td>100%</td>\n",
              "      <td>100%</td>\n",
              "      <td>f</td>\n",
              "      <td>https://a0.muscache.com/im/pictures/user/d8049...</td>\n",
              "      <td>https://a0.muscache.com/im/pictures/user/d8049...</td>\n",
              "      <td>Schöneberg</td>\n",
              "      <td>1.0</td>\n",
              "      <td>1.0</td>\n",
              "      <td>['email', 'phone', 'reviews', 'jumio', 'govern...</td>\n",
              "      <td>t</td>\n",
              "      <td>f</td>\n",
              "      <td>Berlin, Berlin, Germany</td>\n",
              "      <td>Schöneberg</td>\n",
              "      <td>Schöneberg-Nord</td>\n",
              "      <td>...</td>\n",
              "      <td>$18.00</td>\n",
              "      <td>7</td>\n",
              "      <td>35</td>\n",
              "      <td>7</td>\n",
              "      <td>7</td>\n",
              "      <td>35</td>\n",
              "      <td>35</td>\n",
              "      <td>7.0</td>\n",
              "      <td>35.0</td>\n",
              "      <td>2 months ago</td>\n",
              "      <td>t</td>\n",
              "      <td>0</td>\n",
              "      <td>15</td>\n",
              "      <td>45</td>\n",
              "      <td>320</td>\n",
              "      <td>2020-03-17</td>\n",
              "      <td>27</td>\n",
              "      <td>1</td>\n",
              "      <td>2013-08-12</td>\n",
              "      <td>2019-05-31</td>\n",
              "      <td>89.0</td>\n",
              "      <td>9.0</td>\n",
              "      <td>9.0</td>\n",
              "      <td>9.0</td>\n",
              "      <td>10.0</td>\n",
              "      <td>9.0</td>\n",
              "      <td>9.0</td>\n",
              "      <td>t</td>\n",
              "      <td>NaN</td>\n",
              "      <td>NaN</td>\n",
              "      <td>f</td>\n",
              "      <td>f</td>\n",
              "      <td>strict_14_with_grace_period</td>\n",
              "      <td>f</td>\n",
              "      <td>f</td>\n",
              "      <td>1</td>\n",
              "      <td>0</td>\n",
              "      <td>1</td>\n",
              "      <td>0</td>\n",
              "      <td>0.34</td>\n",
              "    </tr>\n",
              "    <tr>\n",
              "      <th>2</th>\n",
              "      <td>6883</td>\n",
              "      <td>https://www.airbnb.com/rooms/6883</td>\n",
              "      <td>20200317045838</td>\n",
              "      <td>2020-03-17</td>\n",
              "      <td>Stylish East Side Loft in Center with AC &amp; 2 b...</td>\n",
              "      <td>NaN</td>\n",
              "      <td>Stay in a stylish loft on the second floor and...</td>\n",
              "      <td>Stay in a stylish loft on the second floor and...</td>\n",
              "      <td>none</td>\n",
              "      <td>The emerging and upcoming East of the new hip ...</td>\n",
              "      <td>Information on Berlin Citytax: English (Websit...</td>\n",
              "      <td>Location: - Very close to Alexanderplatz just ...</td>\n",
              "      <td>More details: - Electricity, heating fees and ...</td>\n",
              "      <td>I rent out my space when I am travelling so I ...</td>\n",
              "      <td>No Pets.  No loud Parties.  Smoking only on th...</td>\n",
              "      <td>NaN</td>\n",
              "      <td>NaN</td>\n",
              "      <td>https://a0.muscache.com/im/pictures/274559/b0d...</td>\n",
              "      <td>NaN</td>\n",
              "      <td>16149</td>\n",
              "      <td>https://www.airbnb.com/users/show/16149</td>\n",
              "      <td>Steffen</td>\n",
              "      <td>2009-05-07</td>\n",
              "      <td>Berlin, Berlin, Germany</td>\n",
              "      <td>Hello and thanks for visitng my page. My name ...</td>\n",
              "      <td>within an hour</td>\n",
              "      <td>100%</td>\n",
              "      <td>100%</td>\n",
              "      <td>f</td>\n",
              "      <td>https://a0.muscache.com/im/pictures/user/5df24...</td>\n",
              "      <td>https://a0.muscache.com/im/pictures/user/5df24...</td>\n",
              "      <td>Friedrichshain</td>\n",
              "      <td>1.0</td>\n",
              "      <td>1.0</td>\n",
              "      <td>['email', 'phone', 'facebook', 'reviews', 'jum...</td>\n",
              "      <td>t</td>\n",
              "      <td>t</td>\n",
              "      <td>Berlin, Berlin, Germany</td>\n",
              "      <td>Friedrichshain</td>\n",
              "      <td>Frankfurter Allee Süd FK</td>\n",
              "      <td>...</td>\n",
              "      <td>$0.00</td>\n",
              "      <td>3</td>\n",
              "      <td>90</td>\n",
              "      <td>3</td>\n",
              "      <td>3</td>\n",
              "      <td>1125</td>\n",
              "      <td>1125</td>\n",
              "      <td>3.0</td>\n",
              "      <td>1125.0</td>\n",
              "      <td>4 days ago</td>\n",
              "      <td>t</td>\n",
              "      <td>0</td>\n",
              "      <td>0</td>\n",
              "      <td>0</td>\n",
              "      <td>0</td>\n",
              "      <td>2020-03-17</td>\n",
              "      <td>133</td>\n",
              "      <td>9</td>\n",
              "      <td>2010-02-15</td>\n",
              "      <td>2020-02-16</td>\n",
              "      <td>99.0</td>\n",
              "      <td>10.0</td>\n",
              "      <td>10.0</td>\n",
              "      <td>10.0</td>\n",
              "      <td>10.0</td>\n",
              "      <td>10.0</td>\n",
              "      <td>10.0</td>\n",
              "      <td>t</td>\n",
              "      <td>02/Z/RA/008250-18</td>\n",
              "      <td>NaN</td>\n",
              "      <td>f</td>\n",
              "      <td>f</td>\n",
              "      <td>moderate</td>\n",
              "      <td>f</td>\n",
              "      <td>t</td>\n",
              "      <td>1</td>\n",
              "      <td>1</td>\n",
              "      <td>0</td>\n",
              "      <td>0</td>\n",
              "      <td>1.08</td>\n",
              "    </tr>\n",
              "    <tr>\n",
              "      <th>3</th>\n",
              "      <td>7071</td>\n",
              "      <td>https://www.airbnb.com/rooms/7071</td>\n",
              "      <td>20200317045838</td>\n",
              "      <td>2020-03-17</td>\n",
              "      <td>BrightRoom with sunny greenview!</td>\n",
              "      <td>Cozy and large room in the beautiful district ...</td>\n",
              "      <td>The BrightRoom is an approx. 20 sqm (215ft²), ...</td>\n",
              "      <td>Cozy and large room in the beautiful district ...</td>\n",
              "      <td>none</td>\n",
              "      <td>Great neighborhood with plenty of Cafés, Baker...</td>\n",
              "      <td>I hope you enjoy your stay to the fullest! Ple...</td>\n",
              "      <td>Best access to other parts of the city via pub...</td>\n",
              "      <td>The guests have access to the bathroom, a smal...</td>\n",
              "      <td>I am glad if I can give you advice or help as ...</td>\n",
              "      <td>Please take good care of everything during you...</td>\n",
              "      <td>NaN</td>\n",
              "      <td>NaN</td>\n",
              "      <td>https://a0.muscache.com/im/pictures/21278/32a1...</td>\n",
              "      <td>NaN</td>\n",
              "      <td>17391</td>\n",
              "      <td>https://www.airbnb.com/users/show/17391</td>\n",
              "      <td>BrightRoom</td>\n",
              "      <td>2009-05-16</td>\n",
              "      <td>Berlin, Berlin, Germany</td>\n",
              "      <td>I am easy going and love making new friends! I...</td>\n",
              "      <td>within an hour</td>\n",
              "      <td>100%</td>\n",
              "      <td>96%</td>\n",
              "      <td>t</td>\n",
              "      <td>https://a0.muscache.com/im/pictures/user/48c3d...</td>\n",
              "      <td>https://a0.muscache.com/im/pictures/user/48c3d...</td>\n",
              "      <td>Prenzlauer Berg</td>\n",
              "      <td>2.0</td>\n",
              "      <td>2.0</td>\n",
              "      <td>['email', 'phone', 'reviews', 'jumio', 'govern...</td>\n",
              "      <td>t</td>\n",
              "      <td>t</td>\n",
              "      <td>Berlin, Berlin, Germany</td>\n",
              "      <td>Prenzlauer Berg</td>\n",
              "      <td>Helmholtzplatz</td>\n",
              "      <td>...</td>\n",
              "      <td>$27.00</td>\n",
              "      <td>1</td>\n",
              "      <td>10</td>\n",
              "      <td>1</td>\n",
              "      <td>1</td>\n",
              "      <td>10</td>\n",
              "      <td>10</td>\n",
              "      <td>1.0</td>\n",
              "      <td>10.0</td>\n",
              "      <td>4 days ago</td>\n",
              "      <td>t</td>\n",
              "      <td>30</td>\n",
              "      <td>45</td>\n",
              "      <td>45</td>\n",
              "      <td>45</td>\n",
              "      <td>2020-03-17</td>\n",
              "      <td>292</td>\n",
              "      <td>75</td>\n",
              "      <td>2009-08-18</td>\n",
              "      <td>2020-03-06</td>\n",
              "      <td>97.0</td>\n",
              "      <td>10.0</td>\n",
              "      <td>10.0</td>\n",
              "      <td>10.0</td>\n",
              "      <td>10.0</td>\n",
              "      <td>10.0</td>\n",
              "      <td>9.0</td>\n",
              "      <td>t</td>\n",
              "      <td>NaN</td>\n",
              "      <td>NaN</td>\n",
              "      <td>f</td>\n",
              "      <td>f</td>\n",
              "      <td>moderate</td>\n",
              "      <td>f</td>\n",
              "      <td>f</td>\n",
              "      <td>2</td>\n",
              "      <td>0</td>\n",
              "      <td>2</td>\n",
              "      <td>0</td>\n",
              "      <td>2.27</td>\n",
              "    </tr>\n",
              "    <tr>\n",
              "      <th>4</th>\n",
              "      <td>9991</td>\n",
              "      <td>https://www.airbnb.com/rooms/9991</td>\n",
              "      <td>20200317045838</td>\n",
              "      <td>2020-03-17</td>\n",
              "      <td>Geourgeous flat - outstanding views</td>\n",
              "      <td>4 bedroom with very large windows and outstand...</td>\n",
              "      <td>THE APPARTMENT - 4 bedroom (US, Germany: 5 roo...</td>\n",
              "      <td>4 bedroom with very large windows and outstand...</td>\n",
              "      <td>none</td>\n",
              "      <td>Prenzlauer Berg is an amazing neighbourhood wh...</td>\n",
              "      <td>NaN</td>\n",
              "      <td>Excellent location regarding public transport ...</td>\n",
              "      <td>All amenities shared - nothing off limits</td>\n",
              "      <td>Guests will have the whole apartment to themse...</td>\n",
              "      <td>NaN</td>\n",
              "      <td>NaN</td>\n",
              "      <td>NaN</td>\n",
              "      <td>https://a0.muscache.com/im/pictures/42799131/5...</td>\n",
              "      <td>NaN</td>\n",
              "      <td>33852</td>\n",
              "      <td>https://www.airbnb.com/users/show/33852</td>\n",
              "      <td>Philipp</td>\n",
              "      <td>2009-08-25</td>\n",
              "      <td>Berlin, Berlin, Germany</td>\n",
              "      <td>Born in Munich - lives in and loves Berlin. Wo...</td>\n",
              "      <td>within a day</td>\n",
              "      <td>100%</td>\n",
              "      <td>25%</td>\n",
              "      <td>f</td>\n",
              "      <td>https://a0.muscache.com/im/users/33852/profile...</td>\n",
              "      <td>https://a0.muscache.com/im/users/33852/profile...</td>\n",
              "      <td>Prenzlauer Berg</td>\n",
              "      <td>1.0</td>\n",
              "      <td>1.0</td>\n",
              "      <td>['email', 'phone', 'facebook', 'reviews', 'jum...</td>\n",
              "      <td>t</td>\n",
              "      <td>t</td>\n",
              "      <td>Berlin, Berlin, Germany</td>\n",
              "      <td>Prenzlauer Berg</td>\n",
              "      <td>Prenzlauer Berg Südwest</td>\n",
              "      <td>...</td>\n",
              "      <td>$10.00</td>\n",
              "      <td>6</td>\n",
              "      <td>14</td>\n",
              "      <td>6</td>\n",
              "      <td>6</td>\n",
              "      <td>14</td>\n",
              "      <td>14</td>\n",
              "      <td>6.0</td>\n",
              "      <td>14.0</td>\n",
              "      <td>3 weeks ago</td>\n",
              "      <td>t</td>\n",
              "      <td>0</td>\n",
              "      <td>0</td>\n",
              "      <td>0</td>\n",
              "      <td>8</td>\n",
              "      <td>2020-03-17</td>\n",
              "      <td>8</td>\n",
              "      <td>2</td>\n",
              "      <td>2015-08-09</td>\n",
              "      <td>2020-01-04</td>\n",
              "      <td>100.0</td>\n",
              "      <td>10.0</td>\n",
              "      <td>10.0</td>\n",
              "      <td>10.0</td>\n",
              "      <td>10.0</td>\n",
              "      <td>10.0</td>\n",
              "      <td>10.0</td>\n",
              "      <td>t</td>\n",
              "      <td>03/Z/RA/003410-18</td>\n",
              "      <td>NaN</td>\n",
              "      <td>f</td>\n",
              "      <td>f</td>\n",
              "      <td>strict_14_with_grace_period</td>\n",
              "      <td>f</td>\n",
              "      <td>f</td>\n",
              "      <td>1</td>\n",
              "      <td>1</td>\n",
              "      <td>0</td>\n",
              "      <td>0</td>\n",
              "      <td>0.14</td>\n",
              "    </tr>\n",
              "  </tbody>\n",
              "</table>\n",
              "<p>5 rows × 106 columns</p>\n",
              "</div>"
            ],
            "text/plain": [
              "     id  ... reviews_per_month\n",
              "0  3176  ...              1.11\n",
              "1  3309  ...              0.34\n",
              "2  6883  ...              1.08\n",
              "3  7071  ...              2.27\n",
              "4  9991  ...              0.14\n",
              "\n",
              "[5 rows x 106 columns]"
            ]
          },
          "metadata": {
            "tags": []
          },
          "execution_count": 245
        }
      ]
    },
    {
      "cell_type": "code",
      "metadata": {
        "id": "8AIgbLERDIoN",
        "colab_type": "code",
        "colab": {
          "base_uri": "https://localhost:8080/",
          "height": 204
        },
        "outputId": "25e502f7-c603-439f-d6c0-7404386ac855"
      },
      "source": [
        "df_reviews = pd.read_csv('/content/drive/My Drive/data-science-notebooks/airbnb-berlin/reviews.csv')\n",
        "df_reviews.head()"
      ],
      "execution_count": 246,
      "outputs": [
        {
          "output_type": "execute_result",
          "data": {
            "text/html": [
              "<div>\n",
              "<style scoped>\n",
              "    .dataframe tbody tr th:only-of-type {\n",
              "        vertical-align: middle;\n",
              "    }\n",
              "\n",
              "    .dataframe tbody tr th {\n",
              "        vertical-align: top;\n",
              "    }\n",
              "\n",
              "    .dataframe thead th {\n",
              "        text-align: right;\n",
              "    }\n",
              "</style>\n",
              "<table border=\"1\" class=\"dataframe\">\n",
              "  <thead>\n",
              "    <tr style=\"text-align: right;\">\n",
              "      <th></th>\n",
              "      <th>listing_id</th>\n",
              "      <th>id</th>\n",
              "      <th>date</th>\n",
              "      <th>reviewer_id</th>\n",
              "      <th>reviewer_name</th>\n",
              "      <th>comments</th>\n",
              "    </tr>\n",
              "  </thead>\n",
              "  <tbody>\n",
              "    <tr>\n",
              "      <th>0</th>\n",
              "      <td>3176</td>\n",
              "      <td>4283</td>\n",
              "      <td>2009-06-20</td>\n",
              "      <td>21475</td>\n",
              "      <td>Milan</td>\n",
              "      <td>excellent stay, i would highly recommend it. a...</td>\n",
              "    </tr>\n",
              "    <tr>\n",
              "      <th>1</th>\n",
              "      <td>3176</td>\n",
              "      <td>134722</td>\n",
              "      <td>2010-11-07</td>\n",
              "      <td>263467</td>\n",
              "      <td>George</td>\n",
              "      <td>Britta's apartment in Berlin is in a great are...</td>\n",
              "    </tr>\n",
              "    <tr>\n",
              "      <th>2</th>\n",
              "      <td>3176</td>\n",
              "      <td>144064</td>\n",
              "      <td>2010-11-24</td>\n",
              "      <td>76726</td>\n",
              "      <td>Patricia</td>\n",
              "      <td>Fantastic, large place in good location. Only ...</td>\n",
              "    </tr>\n",
              "    <tr>\n",
              "      <th>3</th>\n",
              "      <td>3176</td>\n",
              "      <td>156702</td>\n",
              "      <td>2010-12-21</td>\n",
              "      <td>291657</td>\n",
              "      <td>Benedetta</td>\n",
              "      <td>L'appartamento di Britta è molto largo carino ...</td>\n",
              "    </tr>\n",
              "    <tr>\n",
              "      <th>4</th>\n",
              "      <td>3176</td>\n",
              "      <td>165048</td>\n",
              "      <td>2011-01-04</td>\n",
              "      <td>279789</td>\n",
              "      <td>Aude</td>\n",
              "      <td>We went in Berlin for the new year eve. The ap...</td>\n",
              "    </tr>\n",
              "  </tbody>\n",
              "</table>\n",
              "</div>"
            ],
            "text/plain": [
              "   listing_id  ...                                           comments\n",
              "0        3176  ...  excellent stay, i would highly recommend it. a...\n",
              "1        3176  ...  Britta's apartment in Berlin is in a great are...\n",
              "2        3176  ...  Fantastic, large place in good location. Only ...\n",
              "3        3176  ...  L'appartamento di Britta è molto largo carino ...\n",
              "4        3176  ...  We went in Berlin for the new year eve. The ap...\n",
              "\n",
              "[5 rows x 6 columns]"
            ]
          },
          "metadata": {
            "tags": []
          },
          "execution_count": 246
        }
      ]
    },
    {
      "cell_type": "code",
      "metadata": {
        "id": "ztv8jHF1DxhV",
        "colab_type": "code",
        "colab": {
          "base_uri": "https://localhost:8080/",
          "height": 204
        },
        "outputId": "08284e9f-74dc-4b86-fa9b-70fdda1b76d9"
      },
      "source": [
        "df_calendar = pd.read_csv('/content/drive/My Drive/data-science-notebooks/airbnb-berlin/calendar.csv')\n",
        "df_calendar.head()"
      ],
      "execution_count": 247,
      "outputs": [
        {
          "output_type": "execute_result",
          "data": {
            "text/html": [
              "<div>\n",
              "<style scoped>\n",
              "    .dataframe tbody tr th:only-of-type {\n",
              "        vertical-align: middle;\n",
              "    }\n",
              "\n",
              "    .dataframe tbody tr th {\n",
              "        vertical-align: top;\n",
              "    }\n",
              "\n",
              "    .dataframe thead th {\n",
              "        text-align: right;\n",
              "    }\n",
              "</style>\n",
              "<table border=\"1\" class=\"dataframe\">\n",
              "  <thead>\n",
              "    <tr style=\"text-align: right;\">\n",
              "      <th></th>\n",
              "      <th>listing_id</th>\n",
              "      <th>date</th>\n",
              "      <th>available</th>\n",
              "      <th>price</th>\n",
              "      <th>adjusted_price</th>\n",
              "      <th>minimum_nights</th>\n",
              "      <th>maximum_nights</th>\n",
              "    </tr>\n",
              "  </thead>\n",
              "  <tbody>\n",
              "    <tr>\n",
              "      <th>0</th>\n",
              "      <td>3176</td>\n",
              "      <td>2020-03-17</td>\n",
              "      <td>f</td>\n",
              "      <td>$90.00</td>\n",
              "      <td>$90.00</td>\n",
              "      <td>62</td>\n",
              "      <td>1125</td>\n",
              "    </tr>\n",
              "    <tr>\n",
              "      <th>1</th>\n",
              "      <td>3176</td>\n",
              "      <td>2020-03-18</td>\n",
              "      <td>f</td>\n",
              "      <td>$90.00</td>\n",
              "      <td>$90.00</td>\n",
              "      <td>62</td>\n",
              "      <td>1125</td>\n",
              "    </tr>\n",
              "    <tr>\n",
              "      <th>2</th>\n",
              "      <td>3176</td>\n",
              "      <td>2020-03-19</td>\n",
              "      <td>f</td>\n",
              "      <td>$90.00</td>\n",
              "      <td>$90.00</td>\n",
              "      <td>62</td>\n",
              "      <td>1125</td>\n",
              "    </tr>\n",
              "    <tr>\n",
              "      <th>3</th>\n",
              "      <td>3176</td>\n",
              "      <td>2020-03-20</td>\n",
              "      <td>f</td>\n",
              "      <td>$90.00</td>\n",
              "      <td>$90.00</td>\n",
              "      <td>62</td>\n",
              "      <td>1125</td>\n",
              "    </tr>\n",
              "    <tr>\n",
              "      <th>4</th>\n",
              "      <td>3176</td>\n",
              "      <td>2020-03-21</td>\n",
              "      <td>f</td>\n",
              "      <td>$90.00</td>\n",
              "      <td>$90.00</td>\n",
              "      <td>62</td>\n",
              "      <td>1125</td>\n",
              "    </tr>\n",
              "  </tbody>\n",
              "</table>\n",
              "</div>"
            ],
            "text/plain": [
              "   listing_id        date  ... minimum_nights maximum_nights\n",
              "0        3176  2020-03-17  ...             62           1125\n",
              "1        3176  2020-03-18  ...             62           1125\n",
              "2        3176  2020-03-19  ...             62           1125\n",
              "3        3176  2020-03-20  ...             62           1125\n",
              "4        3176  2020-03-21  ...             62           1125\n",
              "\n",
              "[5 rows x 7 columns]"
            ]
          },
          "metadata": {
            "tags": []
          },
          "execution_count": 247
        }
      ]
    },
    {
      "cell_type": "code",
      "metadata": {
        "id": "-u-3cMXoGF_0",
        "colab_type": "code",
        "colab": {
          "base_uri": "https://localhost:8080/",
          "height": 68
        },
        "outputId": "8cb3dbdd-0c4d-4a68-a6a5-af94a6ac3879"
      },
      "source": [
        "print(f\"df_listings.shape = {df_listings.shape}\")\n",
        "print(f\"df_reviews.shape = {df_reviews.shape}\")\n",
        "print(f\"df_calendar.shape = {df_calendar.shape}\")"
      ],
      "execution_count": 248,
      "outputs": [
        {
          "output_type": "stream",
          "text": [
            "df_listings.shape = (25164, 106)\n",
            "df_reviews.shape = (545703, 6)\n",
            "df_calendar.shape = (9184860, 7)\n"
          ],
          "name": "stdout"
        }
      ]
    },
    {
      "cell_type": "code",
      "metadata": {
        "id": "y-odR5QRP7mn",
        "colab_type": "code",
        "colab": {
          "base_uri": "https://localhost:8080/",
          "height": 204
        },
        "outputId": "78356d75-5c2e-42f2-e88d-09dc883c599b"
      },
      "source": [
        "df_listings.loc[:, 'price':'extra_people'].head()"
      ],
      "execution_count": 249,
      "outputs": [
        {
          "output_type": "execute_result",
          "data": {
            "text/html": [
              "<div>\n",
              "<style scoped>\n",
              "    .dataframe tbody tr th:only-of-type {\n",
              "        vertical-align: middle;\n",
              "    }\n",
              "\n",
              "    .dataframe tbody tr th {\n",
              "        vertical-align: top;\n",
              "    }\n",
              "\n",
              "    .dataframe thead th {\n",
              "        text-align: right;\n",
              "    }\n",
              "</style>\n",
              "<table border=\"1\" class=\"dataframe\">\n",
              "  <thead>\n",
              "    <tr style=\"text-align: right;\">\n",
              "      <th></th>\n",
              "      <th>price</th>\n",
              "      <th>weekly_price</th>\n",
              "      <th>monthly_price</th>\n",
              "      <th>security_deposit</th>\n",
              "      <th>cleaning_fee</th>\n",
              "      <th>guests_included</th>\n",
              "      <th>extra_people</th>\n",
              "    </tr>\n",
              "  </thead>\n",
              "  <tbody>\n",
              "    <tr>\n",
              "      <th>0</th>\n",
              "      <td>$90.00</td>\n",
              "      <td>$520.00</td>\n",
              "      <td>$1,900.00</td>\n",
              "      <td>$300.00</td>\n",
              "      <td>$100.00</td>\n",
              "      <td>2</td>\n",
              "      <td>$20.00</td>\n",
              "    </tr>\n",
              "    <tr>\n",
              "      <th>1</th>\n",
              "      <td>$28.00</td>\n",
              "      <td>$175.00</td>\n",
              "      <td>$599.00</td>\n",
              "      <td>$250.00</td>\n",
              "      <td>$30.00</td>\n",
              "      <td>1</td>\n",
              "      <td>$18.00</td>\n",
              "    </tr>\n",
              "    <tr>\n",
              "      <th>2</th>\n",
              "      <td>$125.00</td>\n",
              "      <td>$599.00</td>\n",
              "      <td>$1,399.00</td>\n",
              "      <td>$0.00</td>\n",
              "      <td>$39.00</td>\n",
              "      <td>1</td>\n",
              "      <td>$0.00</td>\n",
              "    </tr>\n",
              "    <tr>\n",
              "      <th>3</th>\n",
              "      <td>$33.00</td>\n",
              "      <td>NaN</td>\n",
              "      <td>NaN</td>\n",
              "      <td>$0.00</td>\n",
              "      <td>$0.00</td>\n",
              "      <td>1</td>\n",
              "      <td>$27.00</td>\n",
              "    </tr>\n",
              "    <tr>\n",
              "      <th>4</th>\n",
              "      <td>$180.00</td>\n",
              "      <td>$650.00</td>\n",
              "      <td>NaN</td>\n",
              "      <td>$400.00</td>\n",
              "      <td>$80.00</td>\n",
              "      <td>5</td>\n",
              "      <td>$10.00</td>\n",
              "    </tr>\n",
              "  </tbody>\n",
              "</table>\n",
              "</div>"
            ],
            "text/plain": [
              "     price weekly_price  ... guests_included extra_people\n",
              "0   $90.00      $520.00  ...               2       $20.00\n",
              "1   $28.00      $175.00  ...               1       $18.00\n",
              "2  $125.00      $599.00  ...               1        $0.00\n",
              "3   $33.00          NaN  ...               1       $27.00\n",
              "4  $180.00      $650.00  ...               5       $10.00\n",
              "\n",
              "[5 rows x 7 columns]"
            ]
          },
          "metadata": {
            "tags": []
          },
          "execution_count": 249
        }
      ]
    },
    {
      "cell_type": "markdown",
      "metadata": {
        "id": "SpnmBcpqJewC",
        "colab_type": "text"
      },
      "source": [
        "# Acommodations Overview\n",
        "\n",
        "1. How do prices vary per neigborhood ?\n",
        "2. What neighborhood has the most expensive listings ?\n",
        "3. What does differ a expensive listing to a cheap listining in terms of facilities? What are the most popular facilities?\n",
        "4. How facilities impact in the review score?"
      ]
    },
    {
      "cell_type": "code",
      "metadata": {
        "id": "vcLT9vINxW_l",
        "colab_type": "code",
        "colab": {}
      },
      "source": [
        "df_listings['float_price'] = df_listings['price'].str.replace('[$\\,]','').astype('float64')\n",
        "df_listings = df_listings.sort_values(by=['float_price'])\n",
        "df_grouped = df_listings.groupby('neighbourhood')['float_price']"
      ],
      "execution_count": 0,
      "outputs": []
    },
    {
      "cell_type": "code",
      "metadata": {
        "id": "wyUql6TKxcd2",
        "colab_type": "code",
        "colab": {
          "base_uri": "https://localhost:8080/",
          "height": 425
        },
        "outputId": "699c8066-0405-4d81-afe2-46bd4bb7061e"
      },
      "source": [
        "df_mean = df_grouped.mean().sort_values(ascending=False)\n",
        "df_mean = df_mean.reset_index()\n",
        "df_mean = pd.concat([df_mean[:10], df_mean[-10:]])\n",
        "df_mean.plot.bar(x='neighbourhood')"
      ],
      "execution_count": 251,
      "outputs": [
        {
          "output_type": "execute_result",
          "data": {
            "text/plain": [
              "<matplotlib.axes._subplots.AxesSubplot at 0x7f9f46f2f898>"
            ]
          },
          "metadata": {
            "tags": []
          },
          "execution_count": 251
        },
        {
          "output_type": "display_data",
          "data": {
            "image/png": "[encoded data removed]",
            "text/plain": [
              "<Figure size 432x288 with 1 Axes>"
            ]
          },
          "metadata": {
            "tags": [],
            "needs_background": "light"
          }
        }
      ]
    },
    {
      "cell_type": "code",
      "metadata": {
        "id": "TzQm5DWT8vfV",
        "colab_type": "code",
        "colab": {}
      },
      "source": [
        "indexer = [item in list(df_mean[:10]['neighbourhood']) for item in df_listings['neighbourhood']]\n",
        "\n",
        "amen_list = df_listings[indexer]['amenities']"
      ],
      "execution_count": 0,
      "outputs": []
    },
    {
      "cell_type": "code",
      "metadata": {
        "id": "N8LhItx9Akt4",
        "colab_type": "code",
        "colab": {}
      },
      "source": [
        "amen_list = [elem.replace('{','').replace('}', '').replace('\"','').split(',') for elem in amen_list]"
      ],
      "execution_count": 0,
      "outputs": []
    },
    {
      "cell_type": "code",
      "metadata": {
        "id": "PkkQEqMNGvkr",
        "colab_type": "code",
        "colab": {}
      },
      "source": [
        "df_amenities = pd.DataFrame(pd.DataFrame(amen_list).values.flatten())\n",
        "df_amenities = df_amenities.dropna()\n",
        "amenitites_counts = df_amenities[0].value_counts()\n",
        "top_amenities = amenitites_counts[[count > 1000 for count in amenitites_counts]]"
      ],
      "execution_count": 0,
      "outputs": []
    },
    {
      "cell_type": "code",
      "metadata": {
        "id": "Xww1KB7MJCA5",
        "colab_type": "code",
        "colab": {
          "base_uri": "https://localhost:8080/",
          "height": 404
        },
        "outputId": "f001fce9-ae6b-4656-8b5c-5018ec8764a6"
      },
      "source": [
        "top_amenities.plot.bar()"
      ],
      "execution_count": 255,
      "outputs": [
        {
          "output_type": "execute_result",
          "data": {
            "text/plain": [
              "<matplotlib.axes._subplots.AxesSubplot at 0x7f9f510c7c50>"
            ]
          },
          "metadata": {
            "tags": []
          },
          "execution_count": 255
        },
        {
          "output_type": "display_data",
          "data": {
            "image/png": "[encoded data removed]",
            "text/plain": [
              "<Figure size 432x288 with 1 Axes>"
            ]
          },
          "metadata": {
            "tags": [],
            "needs_background": "light"
          }
        }
      ]
    },
    {
      "cell_type": "code",
      "metadata": {
        "id": "YXeNPEPhK_pr",
        "colab_type": "code",
        "colab": {
          "base_uri": "https://localhost:8080/",
          "height": 404
        },
        "outputId": "e1d0cc2c-c5d5-4207-eb5d-b6f9b949d30c"
      },
      "source": [
        "indexer = [item in list(df_mean[-10:]['neighbourhood']) for item in df_listings['neighbourhood']]\n",
        "\n",
        "amen_list = df_listings[indexer]['amenities']\n",
        "\n",
        "amen_list = [elem.replace('{','').replace('}', '').replace('\"','').split(',') for elem in amen_list]\n",
        "\n",
        "df_amenities = pd.DataFrame(pd.DataFrame(amen_list).values.flatten())\n",
        "df_amenities = df_amenities.dropna()\n",
        "amenitites_counts = df_amenities[0].value_counts()\n",
        "top_amenities = amenitites_counts[[count > 100 for count in amenitites_counts]]\n",
        "top_amenities.plot.bar()"
      ],
      "execution_count": 259,
      "outputs": [
        {
          "output_type": "execute_result",
          "data": {
            "text/plain": [
              "<matplotlib.axes._subplots.AxesSubplot at 0x7f9f467dccf8>"
            ]
          },
          "metadata": {
            "tags": []
          },
          "execution_count": 259
        },
        {
          "output_type": "display_data",
          "data": {
            "image/png": "[encoded data removed]",
            "text/plain": [
              "<Figure size 432x288 with 1 Axes>"
            ]
          },
          "metadata": {
            "tags": [],
            "needs_background": "light"
          }
        }
      ]
    },
    {
      "cell_type": "markdown",
      "metadata": {
        "id": "UIb7oB-nMqS0",
        "colab_type": "text"
      },
      "source": [
        "# Conclusion\n",
        "\n",
        "Amenities do not have huge impact on price. Nevertheless, there is a set of essential things you **MUST** have in your accomdation."
      ]
    },
    {
      "cell_type": "markdown",
      "metadata": {
        "id": "0qyauFTYJMlj",
        "colab_type": "text"
      },
      "source": [
        "# Hottest Neibourghoods\n",
        "\n"
      ]
    },
    {
      "cell_type": "code",
      "metadata": {
        "id": "06oecH8MHK3k",
        "colab_type": "code",
        "colab": {}
      },
      "source": [
        ""
      ],
      "execution_count": 0,
      "outputs": []
    }
  ]
}