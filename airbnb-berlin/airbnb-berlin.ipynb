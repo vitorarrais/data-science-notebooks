{
  "nbformat": 4,
  "nbformat_minor": 0,
  "metadata": {
    "language_info": {
      "codemirror_mode": {
        "name": "ipython",
        "version": 3
      },
      "file_extension": ".py",
      "mimetype": "text/x-python",
      "name": "python",
      "nbconvert_exporter": "python",
      "pygments_lexer": "ipython3",
      "version": "3.7.6-final"
    },
    "orig_nbformat": 2,
    "kernelspec": {
      "name": "python3",
      "display_name": "Python 3"
    },
    "colab": {
      "name": "airbnb-berlin.ipynb",
      "provenance": []
    }
  },
  "cells": [
    {
      "cell_type": "markdown",
      "metadata": {
        "id": "8p2Jfd94IYre",
        "colab_type": "text"
      },
      "source": [
        "# AirBnb Berlin 2020\n",
        "\n",
        "This dataset contain aspects of listings in Berlin scrapped in March 2020"
      ]
    },
    {
      "cell_type": "markdown",
      "metadata": {
        "id": "9y_VXUwPIDlW",
        "colab_type": "text"
      },
      "source": [
        "## Kickoff Questions\n",
        "1.How do accomodation facilities impact in the final review score of each listing ?  \n",
        "3.How did prices evolve over time?  \n",
        "4.Heat map of hottest neighbourhoods.  "
      ]
    },
    {
      "cell_type": "code",
      "metadata": {
        "id": "dD17v1EgH61J",
        "colab_type": "code",
        "colab": {}
      },
      "source": [
        "import pandas as pd \n",
        "import numpy as np\n",
        "import matplotlib.pyplot as plt\n",
        "%matplotlib inline"
      ],
      "execution_count": 0,
      "outputs": []
    },
    {
      "cell_type": "code",
      "metadata": {
        "id": "mGNgXdV9BmKM",
        "colab_type": "code",
        "colab": {}
      },
      "source": [
        "from google.colab import drive\n",
        "drive.mount('/content/drive')"
      ],
      "execution_count": 0,
      "outputs": []
    },
    {
      "cell_type": "code",
      "metadata": {
        "id": "JWxsZm56Cimv",
        "colab_type": "code",
        "colab": {}
      },
      "source": [
        "df_listings = pd.read_csv('/content/drive/My Drive/data-science-notebooks/airbnb-berlin/listings.csv')\n",
        "df_listings.head()"
      ],
      "execution_count": 0,
      "outputs": []
    },
    {
      "cell_type": "markdown",
      "metadata": {
        "id": "evab70-_iH-s",
        "colab_type": "text"
      },
      "source": [
        "Below is the correlation between aspects of accomadation with overall review score and price."
      ]
    },
    {
      "cell_type": "code",
      "metadata": {
        "id": "GpAuKK5RbQ2U",
        "colab_type": "code",
        "colab": {}
      },
      "source": [
        "df = df_listings.select_dtypes(exclude='object')\n",
        "df = df.dropna(axis=1, how='all')\n",
        "df = df[df['float_price'] != 0.0]"
      ],
      "execution_count": 0,
      "outputs": []
    },
    {
      "cell_type": "code",
      "metadata": {
        "id": "SHVqdTcZcUNG",
        "colab_type": "code",
        "colab": {}
      },
      "source": [
        "import seaborn as sns\n",
        "df = df[['accommodates','bathrooms','bedrooms','beds','number_of_reviews','review_scores_rating','float_price']]\n",
        "sns.heatmap(df.corr(), annot=True)\n",
        "plt.show()"
      ],
      "execution_count": 0,
      "outputs": []
    },
    {
      "cell_type": "markdown",
      "metadata": {
        "id": "dpVdRTXdhO9V",
        "colab_type": "text"
      },
      "source": [
        "### Conclusion\n",
        "\n",
        "**Review Score Rating** and **Price** have very little to do with accomodation characteristics as number of accomodates, bathrooms and bedrooms. "
      ]
    },
    {
      "cell_type": "code",
      "metadata": {
        "id": "8AIgbLERDIoN",
        "colab_type": "code",
        "colab": {}
      },
      "source": [
        "df_reviews = pd.read_csv('/content/drive/My Drive/data-science-notebooks/airbnb-berlin/reviews.csv')\n",
        "df_reviews.head()"
      ],
      "execution_count": 0,
      "outputs": []
    },
    {
      "cell_type": "code",
      "metadata": {
        "id": "ztv8jHF1DxhV",
        "colab_type": "code",
        "colab": {}
      },
      "source": [
        "df_calendar = pd.read_csv('/content/drive/My Drive/data-science-notebooks/airbnb-berlin/calendar.csv')\n",
        "df_calendar.head()"
      ],
      "execution_count": 0,
      "outputs": []
    },
    {
      "cell_type": "code",
      "metadata": {
        "id": "-u-3cMXoGF_0",
        "colab_type": "code",
        "colab": {}
      },
      "source": [
        "print(f\"df_listings.shape = {df_listings.shape}\")\n",
        "print(f\"df_reviews.shape = {df_reviews.shape}\")\n",
        "print(f\"df_calendar.shape = {df_calendar.shape}\")"
      ],
      "execution_count": 0,
      "outputs": []
    },
    {
      "cell_type": "code",
      "metadata": {
        "id": "y-odR5QRP7mn",
        "colab_type": "code",
        "colab": {}
      },
      "source": [
        "df_listings.loc[:, 'price':'extra_people'].head()"
      ],
      "execution_count": 0,
      "outputs": []
    },
    {
      "cell_type": "markdown",
      "metadata": {
        "id": "SpnmBcpqJewC",
        "colab_type": "text"
      },
      "source": [
        "# Acommodations Overview (Prices)\n",
        "\n",
        "Following are the questions I will explore in this section\n",
        "1. How do prices vary per neigborhood ?\n",
        "2. What neighborhood has the most expensive listings ?\n",
        "3. What does differ a expensive listing to a cheap listing in terms of facilities? What are the most popular facilities?\n"
      ]
    },
    {
      "cell_type": "markdown",
      "metadata": {
        "id": "PWwbto21LKAw",
        "colab_type": "text"
      },
      "source": [
        "Shown below are the top 10 **most** and **less** expensive neighbourhoods by listing price in average."
      ]
    },
    {
      "cell_type": "code",
      "metadata": {
        "id": "vcLT9vINxW_l",
        "colab_type": "code",
        "colab": {}
      },
      "source": [
        "# create an additional column with price as float\n",
        "df_listings['float_price'] = df_listings['price'].str.replace('[$\\,]','').astype('float64')\n",
        "df_grouped = df_listings.groupby('neighbourhood')['float_price']"
      ],
      "execution_count": 0,
      "outputs": []
    },
    {
      "cell_type": "code",
      "metadata": {
        "id": "wyUql6TKxcd2",
        "colab_type": "code",
        "colab": {}
      },
      "source": [
        "# sort neighbourhoods by price\n",
        "df_mean = df_grouped.mean().sort_values(ascending=False)\n",
        "df_mean = df_mean.reset_index()\n",
        "df_mean = pd.concat([df_mean[:10], df_mean[-10:]])\n",
        "df_mean.plot.bar(x='neighbourhood')"
      ],
      "execution_count": 0,
      "outputs": []
    },
    {
      "cell_type": "markdown",
      "metadata": {
        "id": "u_u2DWmfK6KG",
        "colab_type": "text"
      },
      "source": [
        "Shown below are the amenities present in more than 50% of listings in the 10 more expensive neighbourhoods"
      ]
    },
    {
      "cell_type": "code",
      "metadata": {
        "id": "TzQm5DWT8vfV",
        "colab_type": "code",
        "colab": {}
      },
      "source": [
        "# select popular amenities among listings in the most expensive neighbourhoods\n",
        "indexer = [item in list(df_mean[:10]['neighbourhood']) for item in df_listings['neighbourhood']]\n",
        "df_expensive_neig = df_listings[indexer]\n",
        "number_of_listings = df_expensive_neig.shape[0]\n",
        "\n",
        "df_amenities = df_expensive_neig['amenities']\n",
        "df_amenities = pd.DataFrame([elem.replace('{','').replace('}', '').replace('\"','').split(',') for elem in df_amenities])\n",
        "df_amenities = pd.DataFrame(df_amenities.values.flatten())\n",
        "df_amenities = df_amenities.dropna()"
      ],
      "execution_count": 0,
      "outputs": []
    },
    {
      "cell_type": "code",
      "metadata": {
        "id": "PkkQEqMNGvkr",
        "colab_type": "code",
        "colab": {}
      },
      "source": [
        "amenitites_counts = df_amenities[0].value_counts()\n",
        "top_amenities = amenitites_counts[[count/number_of_listings > .5 for count in amenitites_counts]]\n",
        "top_amenities.plot.bar()"
      ],
      "execution_count": 0,
      "outputs": []
    },
    {
      "cell_type": "markdown",
      "metadata": {
        "id": "KJFruI5EKnka",
        "colab_type": "text"
      },
      "source": [
        "Shown below are the amenities present in more than 50% of listings in the 10 less expensive neighbourhoods"
      ]
    },
    {
      "cell_type": "code",
      "metadata": {
        "id": "YXeNPEPhK_pr",
        "colab_type": "code",
        "colab": {}
      },
      "source": [
        "# select popular amenities among listings in the less expensive neighbourhoods\n",
        "indexer = [item in list(df_mean[-10:]['neighbourhood']) for item in df_listings['neighbourhood']]\n",
        "df_cheap_neig = df_listings[indexer]\n",
        "number_of_listings = df_cheap_neig.shape[0]\n",
        "\n",
        "df_amenities = df_cheap_neig['amenities']\n",
        "df_amenities = pd.DataFrame([elem.replace('{','').replace('}', '').replace('\"','').split(',') for elem in df_amenities])\n",
        "df_amenities = pd.DataFrame(df_amenities.values.flatten())\n",
        "df_amenities = df_amenities.dropna()"
      ],
      "execution_count": 0,
      "outputs": []
    },
    {
      "cell_type": "code",
      "metadata": {
        "id": "k3_h2B6nJXAb",
        "colab_type": "code",
        "colab": {}
      },
      "source": [
        "amenitites_counts = df_amenities[0].value_counts()\n",
        "top_amenities = amenitites_counts[[count/number_of_listings > .5 for count in amenitites_counts]]\n",
        "top_amenities.plot.bar()"
      ],
      "execution_count": 0,
      "outputs": []
    },
    {
      "cell_type": "markdown",
      "metadata": {
        "id": "UIb7oB-nMqS0",
        "colab_type": "text"
      },
      "source": [
        "### Conclusion\n",
        "\n",
        "Amenities do not have huge impact on price. Nevertheless, there is a set of essential things you **MUST** have in your accomdation."
      ]
    },
    {
      "cell_type": "markdown",
      "metadata": {
        "id": "olNzsJwzE5zC",
        "colab_type": "text"
      },
      "source": [
        "# Accomodations Overview (Reviews)\n",
        "\n",
        "Following the questions I will explore in this section\n",
        "1. How do facilities impact the final review score ?\n",
        "2. What does characterize a good/bad listing (high/low review score) ?"
      ]
    },
    {
      "cell_type": "code",
      "metadata": {
        "id": "Q1sFafnyE5fZ",
        "colab_type": "code",
        "colab": {}
      },
      "source": [
        "df_listings.loc[:, 'number_of_reviews':'review_scores_value'].head()"
      ],
      "execution_count": 0,
      "outputs": []
    },
    {
      "cell_type": "code",
      "metadata": {
        "id": "HtoFXA1RTfj2",
        "colab_type": "code",
        "colab": {}
      },
      "source": [
        "# remove lisitings with no reviews\n",
        "df = df_listings[df_listings['number_of_reviews'] > 0]"
      ],
      "execution_count": 0,
      "outputs": []
    },
    {
      "cell_type": "code",
      "metadata": {
        "id": "8PY6TsTDWVPE",
        "colab_type": "code",
        "colab": {}
      },
      "source": [
        "df[['number_of_reviews']].hist()"
      ],
      "execution_count": 0,
      "outputs": []
    },
    {
      "cell_type": "code",
      "metadata": {
        "id": "PriFFqIbWqdh",
        "colab_type": "code",
        "colab": {}
      },
      "source": [
        "df = df_listings[df_listings['number_of_reviews'] > 100]\n",
        "df[['number_of_reviews']].hist()"
      ],
      "execution_count": 0,
      "outputs": []
    },
    {
      "cell_type": "code",
      "metadata": {
        "id": "a_cwhVl8Vhao",
        "colab_type": "code",
        "colab": {}
      },
      "source": [
        "df[['review_scores_rating']].plot(kind='hist',bins=[0,20,40,60,80,100],rwidth=0.8)\n",
        "plt.show()"
      ],
      "execution_count": 0,
      "outputs": []
    },
    {
      "cell_type": "markdown",
      "metadata": {
        "id": "VbPgX42Gj9Tr",
        "colab_type": "text"
      },
      "source": [
        "# Prices Over time\n",
        "\n",
        "Key questions of this section\n",
        "1. How do prices vary over time?\n",
        "\n",
        "**Note:** Data from previous months/year is required"
      ]
    },
    {
      "cell_type": "code",
      "metadata": {
        "id": "HpsM8_xVa-mZ",
        "colab_type": "code",
        "colab": {}
      },
      "source": [
        "from google.colab import files\n",
        "\n",
        "uploaded = files.upload()\n",
        "\n",
        "for fn in uploaded.keys():\n",
        "  print('User uploaded file \"{name}\" with length {length} bytes'.format(\n",
        "      name=fn, length=len(uploaded[fn])))"
      ],
      "execution_count": 0,
      "outputs": []
    },
    {
      "cell_type": "markdown",
      "metadata": {
        "id": "0qyauFTYJMlj",
        "colab_type": "text"
      },
      "source": [
        "# Hottest Neibourghoods\n",
        "\n",
        "Key questions of this section\n",
        "1. What are neighnourhoods with most number of listings ?\n",
        "2. What are neighbourhoods with largest occupancy rate?\n",
        "3. What are the trending neighbourhoods, i.e., those with recent spikes in number of listings ?\n"
      ]
    }
  ]
}