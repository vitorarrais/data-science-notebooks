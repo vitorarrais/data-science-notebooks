{
 "cells": [
  {
   "cell_type": "markdown",
   "metadata": {},
   "source": [
    "## Data Scientist Nanodegree\n",
    "### Vitor Arrais, June 2020\n",
    "\n",
    "# Project Definition\n",
    "\n",
    "## Project Overview\n",
    "\n",
    "This project aims to build a machine learning model that recommends offers to Starbucks customers. \n",
    "\n",
    "## Problem Statement\n",
    "\n",
    "The problem is formulated around a recommendation problem, where Starbucks wants to find the best offers for its costumers. In Starbucks stand point, a good recommendation engine is desirable because it will avoid spamming offers to customer that won't buy them. Additionally, it increases the chance of tailoring good offers to customers with higher chances to buy them. That will potentially increase the offer conversion rate, and lead to a increase in sells too.\n",
    "\n",
    "## Metrics\n",
    "\n",
    "All customers will receive a Journey's Score as a indicator of how well an offer fits them. There are three different steps a customer has to advance in order to complete his journey, described as follows:\n",
    "\n",
    "* **Step 1**: receive an offer\n",
    "* **Step 2**: view an offer\n",
    "* **Step 3**: buy an offer  \n",
    "\n",
    "When a customer goes through all these three steps we say that he has completed his journey, showing us that the offer was successful. The idea here is to know how far a customer can go in the journey - represented by the step he has taken. Therefore, for each step we'll assign a weight, and as the customer advance steps, we add up the weights to the score. In other words, we can say that the Journey's Score is the sum of all weights a customer got from advancing the offer recommendation journey. \n",
    "\n",
    "# Analysis \n",
    "\n",
    "## Data Sets\n",
    "\n",
    "The data is contained in three files:\n",
    "\n",
    "* portfolio.json - containing offer ids and meta data about each offer (duration, type, etc.)\n",
    "* profile.json - demographic data for each customer\n",
    "* transcript.json - records for transactions, offers received, offers viewed, and offers completed\n",
    "\n",
    "Here is the schema and explanation of each variable in the files:\n",
    "\n",
    "**portfolio.json**\n",
    "* id (string) - offer id\n",
    "* offer_type (string) - type of offer ie BOGO, discount, informational\n",
    "* difficulty (int) - minimum required spend to complete an offer\n",
    "* reward (int) - reward given for completing an offer\n",
    "* duration (int) - time for offer to be open, in days\n",
    "* channels (list of strings)\n",
    "\n",
    "**profile.json**\n",
    "* age (int) - age of the customer \n",
    "* became_member_on (int) - date when customer created an app account\n",
    "* gender (str) - gender of the customer (note some entries contain 'O' for other rather than M or F)\n",
    "* id (str) - customer id\n",
    "* income (float) - customer's income\n",
    "\n",
    "**transcript.json**\n",
    "* event (str) - record description (ie transaction, offer received, offer viewed, etc.)\n",
    "* person (str) - customer id\n",
    "* time (int) - time in hours since start of test. The data begins at time t=0\n",
    "* value - (dict of strings) - either an offer id or transaction amount depending on the record\n",
    "\n",
    "## Algorithms and Techniques  \n",
    "\n",
    "The proposed solution will use a FunkSVD model to recommend offers to customers. We aim to build a matrix with the rows as customers and columns as offers, and the cells as the Journey's Score of each customer. The score will indicate how well a offer fits the customer. Below we have the import of dependencies and the import of the datasets."
   ]
  },
  {
   "cell_type": "code",
   "execution_count": 1,
   "metadata": {},
   "outputs": [],
   "source": [
    "import pandas as pd\n",
    "import numpy as np\n",
    "import math\n",
    "import json\n",
    "import random\n",
    "import matplotlib.pyplot as plt\n",
    "from datetime import date, datetime\n",
    "% matplotlib inline\n",
    "\n",
    "# read in the json files\n",
    "portfolio = pd.read_json('data/portfolio.json', orient='records', lines=True)\n",
    "profile = pd.read_json('data/profile.json', orient='records', lines=True)\n",
    "transcript = pd.read_json('data/transcript.json', orient='records', lines=True)"
   ]
  },
  {
   "cell_type": "markdown",
   "metadata": {},
   "source": [
    "## Data Exploration\n",
    "\n",
    "Here we gonna take a quick look on the data sets, in particular:\n",
    "1. head of datasets.   \n",
    "2. shape of datasets.  \n",
    "3. number of NaN values.  "
   ]
  },
  {
   "cell_type": "markdown",
   "metadata": {},
   "source": [
    "### Head of datasets"
   ]
  },
  {
   "cell_type": "code",
   "execution_count": 2,
   "metadata": {},
   "outputs": [
    {
     "data": {
      "text/html": [
       "<div>\n",
       "<style scoped>\n",
       "    .dataframe tbody tr th:only-of-type {\n",
       "        vertical-align: middle;\n",
       "    }\n",
       "\n",
       "    .dataframe tbody tr th {\n",
       "        vertical-align: top;\n",
       "    }\n",
       "\n",
       "    .dataframe thead th {\n",
       "        text-align: right;\n",
       "    }\n",
       "</style>\n",
       "<table border=\"1\" class=\"dataframe\">\n",
       "  <thead>\n",
       "    <tr style=\"text-align: right;\">\n",
       "      <th></th>\n",
       "      <th>channels</th>\n",
       "      <th>difficulty</th>\n",
       "      <th>duration</th>\n",
       "      <th>id</th>\n",
       "      <th>offer_type</th>\n",
       "      <th>reward</th>\n",
       "    </tr>\n",
       "  </thead>\n",
       "  <tbody>\n",
       "    <tr>\n",
       "      <th>0</th>\n",
       "      <td>[email, mobile, social]</td>\n",
       "      <td>10</td>\n",
       "      <td>7</td>\n",
       "      <td>ae264e3637204a6fb9bb56bc8210ddfd</td>\n",
       "      <td>bogo</td>\n",
       "      <td>10</td>\n",
       "    </tr>\n",
       "    <tr>\n",
       "      <th>1</th>\n",
       "      <td>[web, email, mobile, social]</td>\n",
       "      <td>10</td>\n",
       "      <td>5</td>\n",
       "      <td>4d5c57ea9a6940dd891ad53e9dbe8da0</td>\n",
       "      <td>bogo</td>\n",
       "      <td>10</td>\n",
       "    </tr>\n",
       "    <tr>\n",
       "      <th>2</th>\n",
       "      <td>[web, email, mobile]</td>\n",
       "      <td>0</td>\n",
       "      <td>4</td>\n",
       "      <td>3f207df678b143eea3cee63160fa8bed</td>\n",
       "      <td>informational</td>\n",
       "      <td>0</td>\n",
       "    </tr>\n",
       "    <tr>\n",
       "      <th>3</th>\n",
       "      <td>[web, email, mobile]</td>\n",
       "      <td>5</td>\n",
       "      <td>7</td>\n",
       "      <td>9b98b8c7a33c4b65b9aebfe6a799e6d9</td>\n",
       "      <td>bogo</td>\n",
       "      <td>5</td>\n",
       "    </tr>\n",
       "    <tr>\n",
       "      <th>4</th>\n",
       "      <td>[web, email]</td>\n",
       "      <td>20</td>\n",
       "      <td>10</td>\n",
       "      <td>0b1e1539f2cc45b7b9fa7c272da2e1d7</td>\n",
       "      <td>discount</td>\n",
       "      <td>5</td>\n",
       "    </tr>\n",
       "    <tr>\n",
       "      <th>5</th>\n",
       "      <td>[web, email, mobile, social]</td>\n",
       "      <td>7</td>\n",
       "      <td>7</td>\n",
       "      <td>2298d6c36e964ae4a3e7e9706d1fb8c2</td>\n",
       "      <td>discount</td>\n",
       "      <td>3</td>\n",
       "    </tr>\n",
       "    <tr>\n",
       "      <th>6</th>\n",
       "      <td>[web, email, mobile, social]</td>\n",
       "      <td>10</td>\n",
       "      <td>10</td>\n",
       "      <td>fafdcd668e3743c1bb461111dcafc2a4</td>\n",
       "      <td>discount</td>\n",
       "      <td>2</td>\n",
       "    </tr>\n",
       "    <tr>\n",
       "      <th>7</th>\n",
       "      <td>[email, mobile, social]</td>\n",
       "      <td>0</td>\n",
       "      <td>3</td>\n",
       "      <td>5a8bc65990b245e5a138643cd4eb9837</td>\n",
       "      <td>informational</td>\n",
       "      <td>0</td>\n",
       "    </tr>\n",
       "    <tr>\n",
       "      <th>8</th>\n",
       "      <td>[web, email, mobile, social]</td>\n",
       "      <td>5</td>\n",
       "      <td>5</td>\n",
       "      <td>f19421c1d4aa40978ebb69ca19b0e20d</td>\n",
       "      <td>bogo</td>\n",
       "      <td>5</td>\n",
       "    </tr>\n",
       "    <tr>\n",
       "      <th>9</th>\n",
       "      <td>[web, email, mobile]</td>\n",
       "      <td>10</td>\n",
       "      <td>7</td>\n",
       "      <td>2906b810c7d4411798c6938adc9daaa5</td>\n",
       "      <td>discount</td>\n",
       "      <td>2</td>\n",
       "    </tr>\n",
       "  </tbody>\n",
       "</table>\n",
       "</div>"
      ],
      "text/plain": [
       "                       channels  difficulty  duration  \\\n",
       "0       [email, mobile, social]          10         7   \n",
       "1  [web, email, mobile, social]          10         5   \n",
       "2          [web, email, mobile]           0         4   \n",
       "3          [web, email, mobile]           5         7   \n",
       "4                  [web, email]          20        10   \n",
       "5  [web, email, mobile, social]           7         7   \n",
       "6  [web, email, mobile, social]          10        10   \n",
       "7       [email, mobile, social]           0         3   \n",
       "8  [web, email, mobile, social]           5         5   \n",
       "9          [web, email, mobile]          10         7   \n",
       "\n",
       "                                 id     offer_type  reward  \n",
       "0  ae264e3637204a6fb9bb56bc8210ddfd           bogo      10  \n",
       "1  4d5c57ea9a6940dd891ad53e9dbe8da0           bogo      10  \n",
       "2  3f207df678b143eea3cee63160fa8bed  informational       0  \n",
       "3  9b98b8c7a33c4b65b9aebfe6a799e6d9           bogo       5  \n",
       "4  0b1e1539f2cc45b7b9fa7c272da2e1d7       discount       5  \n",
       "5  2298d6c36e964ae4a3e7e9706d1fb8c2       discount       3  \n",
       "6  fafdcd668e3743c1bb461111dcafc2a4       discount       2  \n",
       "7  5a8bc65990b245e5a138643cd4eb9837  informational       0  \n",
       "8  f19421c1d4aa40978ebb69ca19b0e20d           bogo       5  \n",
       "9  2906b810c7d4411798c6938adc9daaa5       discount       2  "
      ]
     },
     "execution_count": 2,
     "metadata": {},
     "output_type": "execute_result"
    }
   ],
   "source": [
    "portfolio.head(10)"
   ]
  },
  {
   "cell_type": "code",
   "execution_count": 3,
   "metadata": {},
   "outputs": [
    {
     "data": {
      "text/html": [
       "<div>\n",
       "<style scoped>\n",
       "    .dataframe tbody tr th:only-of-type {\n",
       "        vertical-align: middle;\n",
       "    }\n",
       "\n",
       "    .dataframe tbody tr th {\n",
       "        vertical-align: top;\n",
       "    }\n",
       "\n",
       "    .dataframe thead th {\n",
       "        text-align: right;\n",
       "    }\n",
       "</style>\n",
       "<table border=\"1\" class=\"dataframe\">\n",
       "  <thead>\n",
       "    <tr style=\"text-align: right;\">\n",
       "      <th></th>\n",
       "      <th>age</th>\n",
       "      <th>became_member_on</th>\n",
       "      <th>gender</th>\n",
       "      <th>id</th>\n",
       "      <th>income</th>\n",
       "    </tr>\n",
       "  </thead>\n",
       "  <tbody>\n",
       "    <tr>\n",
       "      <th>0</th>\n",
       "      <td>118</td>\n",
       "      <td>20170212</td>\n",
       "      <td>None</td>\n",
       "      <td>68be06ca386d4c31939f3a4f0e3dd783</td>\n",
       "      <td>NaN</td>\n",
       "    </tr>\n",
       "    <tr>\n",
       "      <th>1</th>\n",
       "      <td>55</td>\n",
       "      <td>20170715</td>\n",
       "      <td>F</td>\n",
       "      <td>0610b486422d4921ae7d2bf64640c50b</td>\n",
       "      <td>112000.0</td>\n",
       "    </tr>\n",
       "    <tr>\n",
       "      <th>2</th>\n",
       "      <td>118</td>\n",
       "      <td>20180712</td>\n",
       "      <td>None</td>\n",
       "      <td>38fe809add3b4fcf9315a9694bb96ff5</td>\n",
       "      <td>NaN</td>\n",
       "    </tr>\n",
       "    <tr>\n",
       "      <th>3</th>\n",
       "      <td>75</td>\n",
       "      <td>20170509</td>\n",
       "      <td>F</td>\n",
       "      <td>78afa995795e4d85b5d9ceeca43f5fef</td>\n",
       "      <td>100000.0</td>\n",
       "    </tr>\n",
       "    <tr>\n",
       "      <th>4</th>\n",
       "      <td>118</td>\n",
       "      <td>20170804</td>\n",
       "      <td>None</td>\n",
       "      <td>a03223e636434f42ac4c3df47e8bac43</td>\n",
       "      <td>NaN</td>\n",
       "    </tr>\n",
       "  </tbody>\n",
       "</table>\n",
       "</div>"
      ],
      "text/plain": [
       "   age  became_member_on gender                                id    income\n",
       "0  118          20170212   None  68be06ca386d4c31939f3a4f0e3dd783       NaN\n",
       "1   55          20170715      F  0610b486422d4921ae7d2bf64640c50b  112000.0\n",
       "2  118          20180712   None  38fe809add3b4fcf9315a9694bb96ff5       NaN\n",
       "3   75          20170509      F  78afa995795e4d85b5d9ceeca43f5fef  100000.0\n",
       "4  118          20170804   None  a03223e636434f42ac4c3df47e8bac43       NaN"
      ]
     },
     "execution_count": 3,
     "metadata": {},
     "output_type": "execute_result"
    }
   ],
   "source": [
    "profile.head()"
   ]
  },
  {
   "cell_type": "code",
   "execution_count": 4,
   "metadata": {},
   "outputs": [
    {
     "data": {
      "text/html": [
       "<div>\n",
       "<style scoped>\n",
       "    .dataframe tbody tr th:only-of-type {\n",
       "        vertical-align: middle;\n",
       "    }\n",
       "\n",
       "    .dataframe tbody tr th {\n",
       "        vertical-align: top;\n",
       "    }\n",
       "\n",
       "    .dataframe thead th {\n",
       "        text-align: right;\n",
       "    }\n",
       "</style>\n",
       "<table border=\"1\" class=\"dataframe\">\n",
       "  <thead>\n",
       "    <tr style=\"text-align: right;\">\n",
       "      <th></th>\n",
       "      <th>event</th>\n",
       "      <th>person</th>\n",
       "      <th>time</th>\n",
       "      <th>value</th>\n",
       "    </tr>\n",
       "  </thead>\n",
       "  <tbody>\n",
       "    <tr>\n",
       "      <th>0</th>\n",
       "      <td>offer received</td>\n",
       "      <td>78afa995795e4d85b5d9ceeca43f5fef</td>\n",
       "      <td>0</td>\n",
       "      <td>{'offer id': '9b98b8c7a33c4b65b9aebfe6a799e6d9'}</td>\n",
       "    </tr>\n",
       "    <tr>\n",
       "      <th>1</th>\n",
       "      <td>offer received</td>\n",
       "      <td>a03223e636434f42ac4c3df47e8bac43</td>\n",
       "      <td>0</td>\n",
       "      <td>{'offer id': '0b1e1539f2cc45b7b9fa7c272da2e1d7'}</td>\n",
       "    </tr>\n",
       "    <tr>\n",
       "      <th>2</th>\n",
       "      <td>offer received</td>\n",
       "      <td>e2127556f4f64592b11af22de27a7932</td>\n",
       "      <td>0</td>\n",
       "      <td>{'offer id': '2906b810c7d4411798c6938adc9daaa5'}</td>\n",
       "    </tr>\n",
       "    <tr>\n",
       "      <th>3</th>\n",
       "      <td>offer received</td>\n",
       "      <td>8ec6ce2a7e7949b1bf142def7d0e0586</td>\n",
       "      <td>0</td>\n",
       "      <td>{'offer id': 'fafdcd668e3743c1bb461111dcafc2a4'}</td>\n",
       "    </tr>\n",
       "    <tr>\n",
       "      <th>4</th>\n",
       "      <td>offer received</td>\n",
       "      <td>68617ca6246f4fbc85e91a2a49552598</td>\n",
       "      <td>0</td>\n",
       "      <td>{'offer id': '4d5c57ea9a6940dd891ad53e9dbe8da0'}</td>\n",
       "    </tr>\n",
       "  </tbody>\n",
       "</table>\n",
       "</div>"
      ],
      "text/plain": [
       "            event                            person  time  \\\n",
       "0  offer received  78afa995795e4d85b5d9ceeca43f5fef     0   \n",
       "1  offer received  a03223e636434f42ac4c3df47e8bac43     0   \n",
       "2  offer received  e2127556f4f64592b11af22de27a7932     0   \n",
       "3  offer received  8ec6ce2a7e7949b1bf142def7d0e0586     0   \n",
       "4  offer received  68617ca6246f4fbc85e91a2a49552598     0   \n",
       "\n",
       "                                              value  \n",
       "0  {'offer id': '9b98b8c7a33c4b65b9aebfe6a799e6d9'}  \n",
       "1  {'offer id': '0b1e1539f2cc45b7b9fa7c272da2e1d7'}  \n",
       "2  {'offer id': '2906b810c7d4411798c6938adc9daaa5'}  \n",
       "3  {'offer id': 'fafdcd668e3743c1bb461111dcafc2a4'}  \n",
       "4  {'offer id': '4d5c57ea9a6940dd891ad53e9dbe8da0'}  "
      ]
     },
     "execution_count": 4,
     "metadata": {},
     "output_type": "execute_result"
    }
   ],
   "source": [
    "transcript.head()"
   ]
  },
  {
   "cell_type": "markdown",
   "metadata": {},
   "source": [
    "### Shape of datasets"
   ]
  },
  {
   "cell_type": "code",
   "execution_count": 5,
   "metadata": {},
   "outputs": [
    {
     "data": {
      "text/plain": [
       "((10, 6), (17000, 5), (306534, 4))"
      ]
     },
     "execution_count": 5,
     "metadata": {},
     "output_type": "execute_result"
    }
   ],
   "source": [
    "portfolio.shape, profile.shape, transcript.shape"
   ]
  },
  {
   "cell_type": "markdown",
   "metadata": {},
   "source": [
    "### Number of NaN values\n",
    "\n",
    "The portfolio and transcript dataframes are complete, however, the profile dataset has 2175 rows with some NaN value. It's not a big deal because we're going to use a the FunkSVD that will take care of these missing values."
   ]
  },
  {
   "cell_type": "code",
   "execution_count": 6,
   "metadata": {},
   "outputs": [
    {
     "name": "stdout",
     "output_type": "stream",
     "text": [
      "Number of NaN values by dataframe\n",
      "--------------------------------------\n",
      "Profile dataframe\n",
      "age                    0\n",
      "became_member_on       0\n",
      "gender              2175\n",
      "id                     0\n",
      "income              2175\n",
      "dtype: int64\n",
      "--------------------------------------\n",
      "Portfolio dataframe\n",
      "channels      0\n",
      "difficulty    0\n",
      "duration      0\n",
      "id            0\n",
      "offer_type    0\n",
      "reward        0\n",
      "dtype: int64\n",
      "--------------------------------------\n",
      "Transcript dataframe\n",
      "event     0\n",
      "person    0\n",
      "time      0\n",
      "value     0\n",
      "dtype: int64\n"
     ]
    }
   ],
   "source": [
    "print('Number of NaN values by dataframe')\n",
    "print('--------------------------------------')\n",
    "print('Profile dataframe')\n",
    "print(profile.isna().sum())\n",
    "print('--------------------------------------')\n",
    "print('Portfolio dataframe')\n",
    "print(portfolio.isna().sum())\n",
    "print('--------------------------------------')\n",
    "print('Transcript dataframe')\n",
    "print(transcript.isna().sum())"
   ]
  },
  {
   "cell_type": "markdown",
   "metadata": {},
   "source": [
    "## Data Preprocessing\n",
    "\n",
    "In order to get the most of our data, and before getting it into our model, we first preprocess to tailor it towards our needs. In particular:\n",
    "\n",
    "1. treat the data from profile dataset.\n",
    "2. treat the data from portfolio dataset.\n",
    "3. treat the data from transcript dataset.\n",
    "4. put it all together. "
   ]
  },
  {
   "cell_type": "markdown",
   "metadata": {},
   "source": [
    "### Treat the data from profile dataset\n",
    "First we drop the rows with NaN values in gender and income columns. We all create dummies for the categorical columns."
   ]
  },
  {
   "cell_type": "code",
   "execution_count": 7,
   "metadata": {},
   "outputs": [
    {
     "data": {
      "text/html": [
       "<div>\n",
       "<style scoped>\n",
       "    .dataframe tbody tr th:only-of-type {\n",
       "        vertical-align: middle;\n",
       "    }\n",
       "\n",
       "    .dataframe tbody tr th {\n",
       "        vertical-align: top;\n",
       "    }\n",
       "\n",
       "    .dataframe thead th {\n",
       "        text-align: right;\n",
       "    }\n",
       "</style>\n",
       "<table border=\"1\" class=\"dataframe\">\n",
       "  <thead>\n",
       "    <tr style=\"text-align: right;\">\n",
       "      <th></th>\n",
       "      <th>age</th>\n",
       "      <th>became_member_on</th>\n",
       "      <th>gender</th>\n",
       "      <th>id</th>\n",
       "      <th>income</th>\n",
       "      <th>customer_id</th>\n",
       "      <th>entry_year</th>\n",
       "      <th>entry_month</th>\n",
       "      <th>months_being_member</th>\n",
       "      <th>F</th>\n",
       "      <th>M</th>\n",
       "      <th>O</th>\n",
       "    </tr>\n",
       "  </thead>\n",
       "  <tbody>\n",
       "    <tr>\n",
       "      <th>0</th>\n",
       "      <td>118</td>\n",
       "      <td>20170212</td>\n",
       "      <td>None</td>\n",
       "      <td>68be06ca386d4c31939f3a4f0e3dd783</td>\n",
       "      <td>NaN</td>\n",
       "      <td>0</td>\n",
       "      <td>2017</td>\n",
       "      <td>2</td>\n",
       "      <td>40</td>\n",
       "      <td>0</td>\n",
       "      <td>0</td>\n",
       "      <td>0</td>\n",
       "    </tr>\n",
       "    <tr>\n",
       "      <th>1</th>\n",
       "      <td>55</td>\n",
       "      <td>20170715</td>\n",
       "      <td>F</td>\n",
       "      <td>0610b486422d4921ae7d2bf64640c50b</td>\n",
       "      <td>112000.0</td>\n",
       "      <td>1</td>\n",
       "      <td>2017</td>\n",
       "      <td>7</td>\n",
       "      <td>35</td>\n",
       "      <td>1</td>\n",
       "      <td>0</td>\n",
       "      <td>0</td>\n",
       "    </tr>\n",
       "    <tr>\n",
       "      <th>2</th>\n",
       "      <td>118</td>\n",
       "      <td>20180712</td>\n",
       "      <td>None</td>\n",
       "      <td>38fe809add3b4fcf9315a9694bb96ff5</td>\n",
       "      <td>NaN</td>\n",
       "      <td>2</td>\n",
       "      <td>2018</td>\n",
       "      <td>7</td>\n",
       "      <td>23</td>\n",
       "      <td>0</td>\n",
       "      <td>0</td>\n",
       "      <td>0</td>\n",
       "    </tr>\n",
       "    <tr>\n",
       "      <th>3</th>\n",
       "      <td>75</td>\n",
       "      <td>20170509</td>\n",
       "      <td>F</td>\n",
       "      <td>78afa995795e4d85b5d9ceeca43f5fef</td>\n",
       "      <td>100000.0</td>\n",
       "      <td>3</td>\n",
       "      <td>2017</td>\n",
       "      <td>5</td>\n",
       "      <td>37</td>\n",
       "      <td>1</td>\n",
       "      <td>0</td>\n",
       "      <td>0</td>\n",
       "    </tr>\n",
       "    <tr>\n",
       "      <th>4</th>\n",
       "      <td>118</td>\n",
       "      <td>20170804</td>\n",
       "      <td>None</td>\n",
       "      <td>a03223e636434f42ac4c3df47e8bac43</td>\n",
       "      <td>NaN</td>\n",
       "      <td>4</td>\n",
       "      <td>2017</td>\n",
       "      <td>8</td>\n",
       "      <td>34</td>\n",
       "      <td>0</td>\n",
       "      <td>0</td>\n",
       "      <td>0</td>\n",
       "    </tr>\n",
       "  </tbody>\n",
       "</table>\n",
       "</div>"
      ],
      "text/plain": [
       "   age  became_member_on gender                                id    income  \\\n",
       "0  118          20170212   None  68be06ca386d4c31939f3a4f0e3dd783       NaN   \n",
       "1   55          20170715      F  0610b486422d4921ae7d2bf64640c50b  112000.0   \n",
       "2  118          20180712   None  38fe809add3b4fcf9315a9694bb96ff5       NaN   \n",
       "3   75          20170509      F  78afa995795e4d85b5d9ceeca43f5fef  100000.0   \n",
       "4  118          20170804   None  a03223e636434f42ac4c3df47e8bac43       NaN   \n",
       "\n",
       "   customer_id  entry_year  entry_month  months_being_member  F  M  O  \n",
       "0            0        2017            2                   40  0  0  0  \n",
       "1            1        2017            7                   35  1  0  0  \n",
       "2            2        2018            7                   23  0  0  0  \n",
       "3            3        2017            5                   37  1  0  0  \n",
       "4            4        2017            8                   34  0  0  0  "
      ]
     },
     "execution_count": 7,
     "metadata": {},
     "output_type": "execute_result"
    }
   ],
   "source": [
    "# create a sequential id for customers\n",
    "profile['customer_id'] = profile.index\n",
    "\n",
    "# create year and month columns for the date the customer has become a member\n",
    "profile['entry_year']  = profile['became_member_on'].apply(lambda date: int(str(date)[:4])) \n",
    "profile['entry_month'] = profile['became_member_on'].apply(lambda date: int(str(date)[4:6]))\n",
    "\n",
    "# create a column to indicate how long a customer is a member\n",
    "lst_months_being_member = []\n",
    "today_year = datetime.now().year\n",
    "today_month = datetime.now().month\n",
    "\n",
    "for i in profile.index.values:\n",
    "    lst_months_being_member.append((today_year - profile['entry_year'][i] - 1) * 12 + (12 - profile['entry_month'][i]) + today_month)\n",
    "\n",
    "profile['months_being_member'] = lst_months_being_member\n",
    "\n",
    "# get dummies from gender and concat with profile\n",
    "profile = pd.concat([profile, pd.get_dummies(profile['gender'])], axis = 1)\n",
    "profile.head()    "
   ]
  },
  {
   "cell_type": "markdown",
   "metadata": {},
   "source": [
    "### Treat the data from portfolio dataset"
   ]
  },
  {
   "cell_type": "code",
   "execution_count": 8,
   "metadata": {},
   "outputs": [
    {
     "data": {
      "text/html": [
       "<div>\n",
       "<style scoped>\n",
       "    .dataframe tbody tr th:only-of-type {\n",
       "        vertical-align: middle;\n",
       "    }\n",
       "\n",
       "    .dataframe tbody tr th {\n",
       "        vertical-align: top;\n",
       "    }\n",
       "\n",
       "    .dataframe thead th {\n",
       "        text-align: right;\n",
       "    }\n",
       "</style>\n",
       "<table border=\"1\" class=\"dataframe\">\n",
       "  <thead>\n",
       "    <tr style=\"text-align: right;\">\n",
       "      <th></th>\n",
       "      <th>channels</th>\n",
       "      <th>difficulty</th>\n",
       "      <th>duration</th>\n",
       "      <th>id</th>\n",
       "      <th>offer_type</th>\n",
       "      <th>reward</th>\n",
       "      <th>offer_id</th>\n",
       "      <th>email</th>\n",
       "      <th>mobile</th>\n",
       "      <th>social</th>\n",
       "      <th>web</th>\n",
       "      <th>bogo</th>\n",
       "      <th>discount</th>\n",
       "      <th>informational</th>\n",
       "    </tr>\n",
       "  </thead>\n",
       "  <tbody>\n",
       "    <tr>\n",
       "      <th>0</th>\n",
       "      <td>[email, mobile, social]</td>\n",
       "      <td>10</td>\n",
       "      <td>7</td>\n",
       "      <td>ae264e3637204a6fb9bb56bc8210ddfd</td>\n",
       "      <td>bogo</td>\n",
       "      <td>10</td>\n",
       "      <td>offer_0</td>\n",
       "      <td>1</td>\n",
       "      <td>1</td>\n",
       "      <td>1</td>\n",
       "      <td>0</td>\n",
       "      <td>1</td>\n",
       "      <td>0</td>\n",
       "      <td>0</td>\n",
       "    </tr>\n",
       "    <tr>\n",
       "      <th>1</th>\n",
       "      <td>[web, email, mobile, social]</td>\n",
       "      <td>10</td>\n",
       "      <td>5</td>\n",
       "      <td>4d5c57ea9a6940dd891ad53e9dbe8da0</td>\n",
       "      <td>bogo</td>\n",
       "      <td>10</td>\n",
       "      <td>offer_1</td>\n",
       "      <td>1</td>\n",
       "      <td>1</td>\n",
       "      <td>1</td>\n",
       "      <td>1</td>\n",
       "      <td>1</td>\n",
       "      <td>0</td>\n",
       "      <td>0</td>\n",
       "    </tr>\n",
       "    <tr>\n",
       "      <th>2</th>\n",
       "      <td>[web, email, mobile]</td>\n",
       "      <td>0</td>\n",
       "      <td>4</td>\n",
       "      <td>3f207df678b143eea3cee63160fa8bed</td>\n",
       "      <td>informational</td>\n",
       "      <td>0</td>\n",
       "      <td>offer_2</td>\n",
       "      <td>1</td>\n",
       "      <td>1</td>\n",
       "      <td>0</td>\n",
       "      <td>1</td>\n",
       "      <td>0</td>\n",
       "      <td>0</td>\n",
       "      <td>1</td>\n",
       "    </tr>\n",
       "    <tr>\n",
       "      <th>3</th>\n",
       "      <td>[web, email, mobile]</td>\n",
       "      <td>5</td>\n",
       "      <td>7</td>\n",
       "      <td>9b98b8c7a33c4b65b9aebfe6a799e6d9</td>\n",
       "      <td>bogo</td>\n",
       "      <td>5</td>\n",
       "      <td>offer_3</td>\n",
       "      <td>1</td>\n",
       "      <td>1</td>\n",
       "      <td>0</td>\n",
       "      <td>1</td>\n",
       "      <td>1</td>\n",
       "      <td>0</td>\n",
       "      <td>0</td>\n",
       "    </tr>\n",
       "    <tr>\n",
       "      <th>4</th>\n",
       "      <td>[web, email]</td>\n",
       "      <td>20</td>\n",
       "      <td>10</td>\n",
       "      <td>0b1e1539f2cc45b7b9fa7c272da2e1d7</td>\n",
       "      <td>discount</td>\n",
       "      <td>5</td>\n",
       "      <td>offer_4</td>\n",
       "      <td>1</td>\n",
       "      <td>0</td>\n",
       "      <td>0</td>\n",
       "      <td>1</td>\n",
       "      <td>0</td>\n",
       "      <td>1</td>\n",
       "      <td>0</td>\n",
       "    </tr>\n",
       "  </tbody>\n",
       "</table>\n",
       "</div>"
      ],
      "text/plain": [
       "                       channels  difficulty  duration  \\\n",
       "0       [email, mobile, social]          10         7   \n",
       "1  [web, email, mobile, social]          10         5   \n",
       "2          [web, email, mobile]           0         4   \n",
       "3          [web, email, mobile]           5         7   \n",
       "4                  [web, email]          20        10   \n",
       "\n",
       "                                 id     offer_type  reward offer_id  email  \\\n",
       "0  ae264e3637204a6fb9bb56bc8210ddfd           bogo      10  offer_0      1   \n",
       "1  4d5c57ea9a6940dd891ad53e9dbe8da0           bogo      10  offer_1      1   \n",
       "2  3f207df678b143eea3cee63160fa8bed  informational       0  offer_2      1   \n",
       "3  9b98b8c7a33c4b65b9aebfe6a799e6d9           bogo       5  offer_3      1   \n",
       "4  0b1e1539f2cc45b7b9fa7c272da2e1d7       discount       5  offer_4      1   \n",
       "\n",
       "   mobile  social  web  bogo  discount  informational  \n",
       "0       1       1    0     1         0              0  \n",
       "1       1       1    1     1         0              0  \n",
       "2       1       0    1     0         0              1  \n",
       "3       1       0    1     1         0              0  \n",
       "4       0       0    1     0         1              0  "
      ]
     },
     "execution_count": 8,
     "metadata": {},
     "output_type": "execute_result"
    }
   ],
   "source": [
    "# create an sequential offer id with prefix\n",
    "portfolio['offer_id'] = ['offer_' + str(portfolio.index[i]) for i in range (10)]\n",
    "\n",
    "# get a separate column for each channel type\n",
    "portfolio['email'] = [1 if 'email' in portfolio['channels'][i] else 0 for i in range(10)]\n",
    "portfolio['mobile'] =  [1 if 'mobile' in portfolio['channels'][i] else 0 for i in range(10)]\n",
    "portfolio['social'] = [1 if 'social' in portfolio['channels'][i] else 0 for i in range(10)]\n",
    "portfolio['web'] = [1 if 'web' in portfolio['channels'][i] else 0 for i in range(10)]\n",
    "portfolio = pd.concat([portfolio, pd.get_dummies(portfolio['offer_type'])], axis = 1)\n",
    "\n",
    "portfolio.head()"
   ]
  },
  {
   "cell_type": "markdown",
   "metadata": {},
   "source": [
    "### Treat the data from transcript dataset\n",
    "Notice that the **value** column cotains a combination of 'offer id', 'reward' and 'amount'. Then, we'll separate them into different columns. "
   ]
  },
  {
   "cell_type": "code",
   "execution_count": 9,
   "metadata": {},
   "outputs": [
    {
     "data": {
      "text/html": [
       "<div>\n",
       "<style scoped>\n",
       "    .dataframe tbody tr th:only-of-type {\n",
       "        vertical-align: middle;\n",
       "    }\n",
       "\n",
       "    .dataframe tbody tr th {\n",
       "        vertical-align: top;\n",
       "    }\n",
       "\n",
       "    .dataframe thead th {\n",
       "        text-align: right;\n",
       "    }\n",
       "</style>\n",
       "<table border=\"1\" class=\"dataframe\">\n",
       "  <thead>\n",
       "    <tr style=\"text-align: right;\">\n",
       "      <th></th>\n",
       "      <th>event</th>\n",
       "      <th>person</th>\n",
       "      <th>time</th>\n",
       "      <th>value</th>\n",
       "      <th>offer</th>\n",
       "      <th>reward_received</th>\n",
       "      <th>amount</th>\n",
       "      <th>offer completed</th>\n",
       "      <th>offer received</th>\n",
       "      <th>offer viewed</th>\n",
       "      <th>transaction</th>\n",
       "    </tr>\n",
       "  </thead>\n",
       "  <tbody>\n",
       "    <tr>\n",
       "      <th>0</th>\n",
       "      <td>offer received</td>\n",
       "      <td>78afa995795e4d85b5d9ceeca43f5fef</td>\n",
       "      <td>0</td>\n",
       "      <td>{'offer id': '9b98b8c7a33c4b65b9aebfe6a799e6d9'}</td>\n",
       "      <td>9b98b8c7a33c4b65b9aebfe6a799e6d9</td>\n",
       "      <td>NaN</td>\n",
       "      <td>NaN</td>\n",
       "      <td>0</td>\n",
       "      <td>1</td>\n",
       "      <td>0</td>\n",
       "      <td>0</td>\n",
       "    </tr>\n",
       "    <tr>\n",
       "      <th>1</th>\n",
       "      <td>offer received</td>\n",
       "      <td>a03223e636434f42ac4c3df47e8bac43</td>\n",
       "      <td>0</td>\n",
       "      <td>{'offer id': '0b1e1539f2cc45b7b9fa7c272da2e1d7'}</td>\n",
       "      <td>0b1e1539f2cc45b7b9fa7c272da2e1d7</td>\n",
       "      <td>NaN</td>\n",
       "      <td>NaN</td>\n",
       "      <td>0</td>\n",
       "      <td>1</td>\n",
       "      <td>0</td>\n",
       "      <td>0</td>\n",
       "    </tr>\n",
       "    <tr>\n",
       "      <th>2</th>\n",
       "      <td>offer received</td>\n",
       "      <td>e2127556f4f64592b11af22de27a7932</td>\n",
       "      <td>0</td>\n",
       "      <td>{'offer id': '2906b810c7d4411798c6938adc9daaa5'}</td>\n",
       "      <td>2906b810c7d4411798c6938adc9daaa5</td>\n",
       "      <td>NaN</td>\n",
       "      <td>NaN</td>\n",
       "      <td>0</td>\n",
       "      <td>1</td>\n",
       "      <td>0</td>\n",
       "      <td>0</td>\n",
       "    </tr>\n",
       "    <tr>\n",
       "      <th>3</th>\n",
       "      <td>offer received</td>\n",
       "      <td>8ec6ce2a7e7949b1bf142def7d0e0586</td>\n",
       "      <td>0</td>\n",
       "      <td>{'offer id': 'fafdcd668e3743c1bb461111dcafc2a4'}</td>\n",
       "      <td>fafdcd668e3743c1bb461111dcafc2a4</td>\n",
       "      <td>NaN</td>\n",
       "      <td>NaN</td>\n",
       "      <td>0</td>\n",
       "      <td>1</td>\n",
       "      <td>0</td>\n",
       "      <td>0</td>\n",
       "    </tr>\n",
       "    <tr>\n",
       "      <th>4</th>\n",
       "      <td>offer received</td>\n",
       "      <td>68617ca6246f4fbc85e91a2a49552598</td>\n",
       "      <td>0</td>\n",
       "      <td>{'offer id': '4d5c57ea9a6940dd891ad53e9dbe8da0'}</td>\n",
       "      <td>4d5c57ea9a6940dd891ad53e9dbe8da0</td>\n",
       "      <td>NaN</td>\n",
       "      <td>NaN</td>\n",
       "      <td>0</td>\n",
       "      <td>1</td>\n",
       "      <td>0</td>\n",
       "      <td>0</td>\n",
       "    </tr>\n",
       "  </tbody>\n",
       "</table>\n",
       "</div>"
      ],
      "text/plain": [
       "            event                            person  time  \\\n",
       "0  offer received  78afa995795e4d85b5d9ceeca43f5fef     0   \n",
       "1  offer received  a03223e636434f42ac4c3df47e8bac43     0   \n",
       "2  offer received  e2127556f4f64592b11af22de27a7932     0   \n",
       "3  offer received  8ec6ce2a7e7949b1bf142def7d0e0586     0   \n",
       "4  offer received  68617ca6246f4fbc85e91a2a49552598     0   \n",
       "\n",
       "                                              value  \\\n",
       "0  {'offer id': '9b98b8c7a33c4b65b9aebfe6a799e6d9'}   \n",
       "1  {'offer id': '0b1e1539f2cc45b7b9fa7c272da2e1d7'}   \n",
       "2  {'offer id': '2906b810c7d4411798c6938adc9daaa5'}   \n",
       "3  {'offer id': 'fafdcd668e3743c1bb461111dcafc2a4'}   \n",
       "4  {'offer id': '4d5c57ea9a6940dd891ad53e9dbe8da0'}   \n",
       "\n",
       "                              offer  reward_received  amount  offer completed  \\\n",
       "0  9b98b8c7a33c4b65b9aebfe6a799e6d9              NaN     NaN                0   \n",
       "1  0b1e1539f2cc45b7b9fa7c272da2e1d7              NaN     NaN                0   \n",
       "2  2906b810c7d4411798c6938adc9daaa5              NaN     NaN                0   \n",
       "3  fafdcd668e3743c1bb461111dcafc2a4              NaN     NaN                0   \n",
       "4  4d5c57ea9a6940dd891ad53e9dbe8da0              NaN     NaN                0   \n",
       "\n",
       "   offer received  offer viewed  transaction  \n",
       "0               1             0            0  \n",
       "1               1             0            0  \n",
       "2               1             0            0  \n",
       "3               1             0            0  \n",
       "4               1             0            0  "
      ]
     },
     "execution_count": 9,
     "metadata": {},
     "output_type": "execute_result"
    }
   ],
   "source": [
    "def get_dict_values(all_dicts):\n",
    "    \"\"\"\n",
    "    Breaks down the value column in offer_id, reward and amount\n",
    "    \"\"\"\n",
    "    # initialize the list\n",
    "    lst_values =  [[], [], []]\n",
    "    for item in all_dicts:\n",
    "        keys = item.keys()\n",
    "        \n",
    "        # getting the offer id. In some cases we have 'offer_id' instead of 'offer id'\n",
    "        if 'offer id' in keys: lst_values[0].append(item['offer id'])\n",
    "        else:\n",
    "            if 'offer_id' in keys: lst_values[0].append(item['offer_id'])\n",
    "            else: lst_values[0].append(np.nan)\n",
    "        \n",
    "        # getting reward\n",
    "        if 'reward' in keys: lst_values[1].append(item['reward'])\n",
    "        else: lst_values[1].append(np.nan)\n",
    "        \n",
    "        # getting amount\n",
    "        if 'amount' in keys: lst_values[2].append(item['amount'])\n",
    "        else: lst_values[2].append(np.nan)\n",
    "        \n",
    "        lst_offer = lst_values[0]\n",
    "        lst_reward = lst_values[1]\n",
    "        lst_amount = lst_values[2]\n",
    "        \n",
    "    \n",
    "    return lst_offer, lst_reward, lst_amount\n",
    "\n",
    "# Unzip the columns value to get {offer_id, reward, amount}\n",
    "transcript['offer'], transcript['reward_received'], transcript['amount'] = get_dict_values (transcript['value'])\n",
    "transcript = pd.concat([transcript, pd.get_dummies(transcript['event'])], axis = 1)\n",
    "transcript.head()"
   ]
  },
  {
   "cell_type": "markdown",
   "metadata": {},
   "source": [
    "Notice that we have four types of events, and their corresponding value's column:\n",
    "\n",
    "1. **when event is offer received** the value's column contains offer id   \n",
    "2. **when event is offer viewed** the value's column contains offer id \n",
    "3. **when event is offer completed** the value's column contains offer id and the reward received  \n",
    "4. **when event is transaction** the value's column contains the transaction amount  \n",
    "\n",
    "Let's take a look at the NaN values for each type of event [received, viewed, completed, transaction]"
   ]
  },
  {
   "cell_type": "code",
   "execution_count": 10,
   "metadata": {},
   "outputs": [
    {
     "name": "stdout",
     "output_type": "stream",
     "text": [
      "Null values by event\n",
      "------------------------------\n",
      "Event name: offer received\n",
      "Nulls offer: 0\n",
      "Nulls reward: 76277\n",
      "Nulls amount: 76277\n",
      "Number of Rows: 76277\n",
      "------------------------------\n",
      "Event name: offer viewed\n",
      "Nulls offer: 0\n",
      "Nulls reward: 57725\n",
      "Nulls amount: 57725\n",
      "Number of Rows: 57725\n",
      "------------------------------\n",
      "Event name: offer completed\n",
      "Nulls offer: 0\n",
      "Nulls reward: 0\n",
      "Nulls amount: 33579\n",
      "Number of Rows: 33579\n",
      "------------------------------\n",
      "Event name: transaction\n",
      "Nulls offer: 138953\n",
      "Nulls reward: 138953\n",
      "Nulls amount: 0\n",
      "Number of Rows: 138953\n",
      "------------------------------\n"
     ]
    }
   ],
   "source": [
    "lst_events = ['offer received', 'offer viewed', 'offer completed', 'transaction']\n",
    "\n",
    "print('Null values by event')\n",
    "print('------------------------------')\n",
    "for event in lst_events:\n",
    "    test = transcript[transcript['event'] == event]\n",
    "    print('Event name:', event)\n",
    "    print('Nulls offer:', test['offer'].isna().sum())\n",
    "    print('Nulls reward:', test['reward_received'].isna().sum())\n",
    "    print('Nulls amount:', test['amount'].isna().sum())\n",
    "    print('Number of Rows:', test.shape[0])\n",
    "    print('------------------------------')\n"
   ]
  },
  {
   "cell_type": "markdown",
   "metadata": {},
   "source": [
    "### Put it all together\n",
    "\n",
    "Let's concatenate our findings in a single dataframe, which we'll use to feed our machine learning model."
   ]
  },
  {
   "cell_type": "code",
   "execution_count": 11,
   "metadata": {},
   "outputs": [
    {
     "name": "stdout",
     "output_type": "stream",
     "text": [
      "['event' 'time' 'value' 'reward_received' 'amount' 'offer completed'\n",
      " 'offer received' 'offer viewed' 'transaction' 'age' 'became_member_on'\n",
      " 'gender' 'income' 'customer_id' 'entry_year' 'entry_month'\n",
      " 'months_being_member' 'F' 'M' 'O' 'channels' 'difficulty' 'duration'\n",
      " 'offer_type' 'reward' 'offer_id' 'email' 'mobile' 'social' 'web' 'bogo'\n",
      " 'discount' 'informational']\n"
     ]
    },
    {
     "data": {
      "text/html": [
       "<div>\n",
       "<style scoped>\n",
       "    .dataframe tbody tr th:only-of-type {\n",
       "        vertical-align: middle;\n",
       "    }\n",
       "\n",
       "    .dataframe tbody tr th {\n",
       "        vertical-align: top;\n",
       "    }\n",
       "\n",
       "    .dataframe thead th {\n",
       "        text-align: right;\n",
       "    }\n",
       "</style>\n",
       "<table border=\"1\" class=\"dataframe\">\n",
       "  <thead>\n",
       "    <tr style=\"text-align: right;\">\n",
       "      <th></th>\n",
       "      <th>event</th>\n",
       "      <th>time</th>\n",
       "      <th>value</th>\n",
       "      <th>reward_received</th>\n",
       "      <th>amount</th>\n",
       "      <th>offer completed</th>\n",
       "      <th>offer received</th>\n",
       "      <th>offer viewed</th>\n",
       "      <th>transaction</th>\n",
       "      <th>age</th>\n",
       "      <th>...</th>\n",
       "      <th>offer_type</th>\n",
       "      <th>reward</th>\n",
       "      <th>offer_id</th>\n",
       "      <th>email</th>\n",
       "      <th>mobile</th>\n",
       "      <th>social</th>\n",
       "      <th>web</th>\n",
       "      <th>bogo</th>\n",
       "      <th>discount</th>\n",
       "      <th>informational</th>\n",
       "    </tr>\n",
       "  </thead>\n",
       "  <tbody>\n",
       "    <tr>\n",
       "      <th>0</th>\n",
       "      <td>offer received</td>\n",
       "      <td>0</td>\n",
       "      <td>{'offer id': '9b98b8c7a33c4b65b9aebfe6a799e6d9'}</td>\n",
       "      <td>NaN</td>\n",
       "      <td>NaN</td>\n",
       "      <td>0</td>\n",
       "      <td>1</td>\n",
       "      <td>0</td>\n",
       "      <td>0</td>\n",
       "      <td>75</td>\n",
       "      <td>...</td>\n",
       "      <td>bogo</td>\n",
       "      <td>5.0</td>\n",
       "      <td>offer_3</td>\n",
       "      <td>1.0</td>\n",
       "      <td>1.0</td>\n",
       "      <td>0.0</td>\n",
       "      <td>1.0</td>\n",
       "      <td>1.0</td>\n",
       "      <td>0.0</td>\n",
       "      <td>0.0</td>\n",
       "    </tr>\n",
       "    <tr>\n",
       "      <th>1</th>\n",
       "      <td>offer received</td>\n",
       "      <td>0</td>\n",
       "      <td>{'offer id': '0b1e1539f2cc45b7b9fa7c272da2e1d7'}</td>\n",
       "      <td>NaN</td>\n",
       "      <td>NaN</td>\n",
       "      <td>0</td>\n",
       "      <td>1</td>\n",
       "      <td>0</td>\n",
       "      <td>0</td>\n",
       "      <td>118</td>\n",
       "      <td>...</td>\n",
       "      <td>discount</td>\n",
       "      <td>5.0</td>\n",
       "      <td>offer_4</td>\n",
       "      <td>1.0</td>\n",
       "      <td>0.0</td>\n",
       "      <td>0.0</td>\n",
       "      <td>1.0</td>\n",
       "      <td>0.0</td>\n",
       "      <td>1.0</td>\n",
       "      <td>0.0</td>\n",
       "    </tr>\n",
       "    <tr>\n",
       "      <th>2</th>\n",
       "      <td>offer received</td>\n",
       "      <td>0</td>\n",
       "      <td>{'offer id': '2906b810c7d4411798c6938adc9daaa5'}</td>\n",
       "      <td>NaN</td>\n",
       "      <td>NaN</td>\n",
       "      <td>0</td>\n",
       "      <td>1</td>\n",
       "      <td>0</td>\n",
       "      <td>0</td>\n",
       "      <td>68</td>\n",
       "      <td>...</td>\n",
       "      <td>discount</td>\n",
       "      <td>2.0</td>\n",
       "      <td>offer_9</td>\n",
       "      <td>1.0</td>\n",
       "      <td>1.0</td>\n",
       "      <td>0.0</td>\n",
       "      <td>1.0</td>\n",
       "      <td>0.0</td>\n",
       "      <td>1.0</td>\n",
       "      <td>0.0</td>\n",
       "    </tr>\n",
       "    <tr>\n",
       "      <th>3</th>\n",
       "      <td>offer received</td>\n",
       "      <td>0</td>\n",
       "      <td>{'offer id': 'fafdcd668e3743c1bb461111dcafc2a4'}</td>\n",
       "      <td>NaN</td>\n",
       "      <td>NaN</td>\n",
       "      <td>0</td>\n",
       "      <td>1</td>\n",
       "      <td>0</td>\n",
       "      <td>0</td>\n",
       "      <td>118</td>\n",
       "      <td>...</td>\n",
       "      <td>discount</td>\n",
       "      <td>2.0</td>\n",
       "      <td>offer_6</td>\n",
       "      <td>1.0</td>\n",
       "      <td>1.0</td>\n",
       "      <td>1.0</td>\n",
       "      <td>1.0</td>\n",
       "      <td>0.0</td>\n",
       "      <td>1.0</td>\n",
       "      <td>0.0</td>\n",
       "    </tr>\n",
       "    <tr>\n",
       "      <th>4</th>\n",
       "      <td>offer received</td>\n",
       "      <td>0</td>\n",
       "      <td>{'offer id': '4d5c57ea9a6940dd891ad53e9dbe8da0'}</td>\n",
       "      <td>NaN</td>\n",
       "      <td>NaN</td>\n",
       "      <td>0</td>\n",
       "      <td>1</td>\n",
       "      <td>0</td>\n",
       "      <td>0</td>\n",
       "      <td>118</td>\n",
       "      <td>...</td>\n",
       "      <td>bogo</td>\n",
       "      <td>10.0</td>\n",
       "      <td>offer_1</td>\n",
       "      <td>1.0</td>\n",
       "      <td>1.0</td>\n",
       "      <td>1.0</td>\n",
       "      <td>1.0</td>\n",
       "      <td>1.0</td>\n",
       "      <td>0.0</td>\n",
       "      <td>0.0</td>\n",
       "    </tr>\n",
       "  </tbody>\n",
       "</table>\n",
       "<p>5 rows × 33 columns</p>\n",
       "</div>"
      ],
      "text/plain": [
       "            event  time                                             value  \\\n",
       "0  offer received     0  {'offer id': '9b98b8c7a33c4b65b9aebfe6a799e6d9'}   \n",
       "1  offer received     0  {'offer id': '0b1e1539f2cc45b7b9fa7c272da2e1d7'}   \n",
       "2  offer received     0  {'offer id': '2906b810c7d4411798c6938adc9daaa5'}   \n",
       "3  offer received     0  {'offer id': 'fafdcd668e3743c1bb461111dcafc2a4'}   \n",
       "4  offer received     0  {'offer id': '4d5c57ea9a6940dd891ad53e9dbe8da0'}   \n",
       "\n",
       "   reward_received  amount  offer completed  offer received  offer viewed  \\\n",
       "0              NaN     NaN                0               1             0   \n",
       "1              NaN     NaN                0               1             0   \n",
       "2              NaN     NaN                0               1             0   \n",
       "3              NaN     NaN                0               1             0   \n",
       "4              NaN     NaN                0               1             0   \n",
       "\n",
       "   transaction  age      ...        offer_type reward  offer_id  email  \\\n",
       "0            0   75      ...              bogo    5.0   offer_3    1.0   \n",
       "1            0  118      ...          discount    5.0   offer_4    1.0   \n",
       "2            0   68      ...          discount    2.0   offer_9    1.0   \n",
       "3            0  118      ...          discount    2.0   offer_6    1.0   \n",
       "4            0  118      ...              bogo   10.0   offer_1    1.0   \n",
       "\n",
       "   mobile  social  web  bogo  discount  informational  \n",
       "0     1.0     0.0  1.0   1.0       0.0            0.0  \n",
       "1     0.0     0.0  1.0   0.0       1.0            0.0  \n",
       "2     1.0     0.0  1.0   0.0       1.0            0.0  \n",
       "3     1.0     1.0  1.0   0.0       1.0            0.0  \n",
       "4     1.0     1.0  1.0   1.0       0.0            0.0  \n",
       "\n",
       "[5 rows x 33 columns]"
      ]
     },
     "execution_count": 11,
     "metadata": {},
     "output_type": "execute_result"
    }
   ],
   "source": [
    "# creates the variable df_central to aggregate all findings from all datasets\n",
    "df_central = transcript.merge(profile, left_on = 'person', right_on = 'id', how = 'left').drop(['person', 'id'], axis = 1)\n",
    "df_central = df_central.merge(portfolio, left_on = 'offer', right_on = 'id', how = 'left').drop(['offer', 'id'], axis = 1)\n",
    "\n",
    "print(df_central.columns.values)\n",
    "df_central.head()                          "
   ]
  },
  {
   "cell_type": "markdown",
   "metadata": {},
   "source": [
    "### Compute Total Amount Spent\n",
    "\n",
    "Create a column amount that represents the total amount spent by the customer."
   ]
  },
  {
   "cell_type": "code",
   "execution_count": 13,
   "metadata": {},
   "outputs": [],
   "source": [
    "# Split df_central into df_offer | df_amount \n",
    "df_offers = df_central[df_central['event'] != 'transaction'].drop(['amount'], axis = 1)\n",
    "df_transactions = df_central[df_central['event'] == 'transaction'].groupby('customer_id').agg({'amount':'sum'}).reset_index()\n",
    "\n",
    "profile = profile.merge(df_transactions, on = 'customer_id', how = 'left')\n",
    "\n",
    "# some nan values were cretated by last operations, they mean no purchases and can be changed by 0\n",
    "profile['amount'] = profile['amount'].fillna(0)\n"
   ]
  },
  {
   "cell_type": "markdown",
   "metadata": {},
   "source": [
    "### Journey's Score\n",
    "\n",
    "The events offer received, offer viewed, offer completed suggest a path to follow from receing an offer to actually buing it. Therefore, the journey will represent how far a customer advanced in this path. It is important to understand how offers engage customers, that will be achieved by using a scoring system. The Journeys Score is computed with the following formula:\n",
    "\n",
    "score = 10 * ((number_received) + (3 x number_viewed) + (5 x number_completed)) / (9 x number_received)\n",
    "\n",
    "Where: \n",
    "(1 x number_received): the weight of received offer. \n",
    "(3 x number_viewed): the weight of viewed offer. \n",
    "(5 x number_completed): the weight of completed offer. \n",
    "(9 x number_received): the total journey's score.\n",
    "\n",
    "The equation above will be used to tell how engaged a customer was by certain offer. However, the customer can take a shortcut and purchase the offer without viewing it. In that case, the customer's engagement was not influenced by the offer, and it doesn't make sense for us to use the previous equation. For these cases, the score will be computed by the following equation:\n",
    "\n",
    "score = 10 * ((number_received) + (8 x number_viewed) / (9 x number_received)\n"
   ]
  },
  {
   "cell_type": "code",
   "execution_count": 14,
   "metadata": {},
   "outputs": [
    {
     "name": "stdout",
     "output_type": "stream",
     "text": [
      "76277 57725 33579\n",
      "Percentual viewed 0.76\n",
      "Percentual completed 0.44\n"
     ]
    }
   ],
   "source": [
    "# take a look in percentual of offers received that have achieved viewed and completed status.\n",
    "num_received = df_central[df_central['event'] == 'offer received'].shape[0]\n",
    "num_viewed = df_central[df_central['event'] == 'offer viewed'].shape[0]\n",
    "num_completed = df_central[df_central['event'] == 'offer completed'].shape[0]\n",
    "\n",
    "average_score = (num_viewed + 3 * num_completed) / (num_received * 4)\n",
    "print(num_received, num_viewed, num_completed)\n",
    "print('Percentual viewed', np.round(num_viewed/num_received, decimals = 2))\n",
    "print('Percentual completed', np.round(num_completed/num_received, decimals = 2))\n"
   ]
  },
  {
   "cell_type": "markdown",
   "metadata": {},
   "source": [
    "### Average the Journey's Score\n",
    "\n",
    "Next we'll find out the avegare Journey's Score in our dataset."
   ]
  },
  {
   "cell_type": "code",
   "execution_count": 15,
   "metadata": {
    "scrolled": true
   },
   "outputs": [
    {
     "data": {
      "text/html": [
       "<div>\n",
       "<style scoped>\n",
       "    .dataframe tbody tr th:only-of-type {\n",
       "        vertical-align: middle;\n",
       "    }\n",
       "\n",
       "    .dataframe tbody tr th {\n",
       "        vertical-align: top;\n",
       "    }\n",
       "\n",
       "    .dataframe thead th {\n",
       "        text-align: right;\n",
       "    }\n",
       "</style>\n",
       "<table border=\"1\" class=\"dataframe\">\n",
       "  <thead>\n",
       "    <tr style=\"text-align: right;\">\n",
       "      <th></th>\n",
       "      <th></th>\n",
       "      <th>offer received</th>\n",
       "      <th>offer viewed</th>\n",
       "      <th>offer completed</th>\n",
       "    </tr>\n",
       "    <tr>\n",
       "      <th>customer_id</th>\n",
       "      <th>offer_id</th>\n",
       "      <th></th>\n",
       "      <th></th>\n",
       "      <th></th>\n",
       "    </tr>\n",
       "  </thead>\n",
       "  <tbody>\n",
       "    <tr>\n",
       "      <th rowspan=\"4\" valign=\"top\">0</th>\n",
       "      <th>offer_4</th>\n",
       "      <td>1</td>\n",
       "      <td>1</td>\n",
       "      <td>0</td>\n",
       "    </tr>\n",
       "    <tr>\n",
       "      <th>offer_5</th>\n",
       "      <td>1</td>\n",
       "      <td>1</td>\n",
       "      <td>1</td>\n",
       "    </tr>\n",
       "    <tr>\n",
       "      <th>offer_6</th>\n",
       "      <td>2</td>\n",
       "      <td>2</td>\n",
       "      <td>1</td>\n",
       "    </tr>\n",
       "    <tr>\n",
       "      <th>offer_9</th>\n",
       "      <td>1</td>\n",
       "      <td>1</td>\n",
       "      <td>0</td>\n",
       "    </tr>\n",
       "    <tr>\n",
       "      <th>1</th>\n",
       "      <th>offer_2</th>\n",
       "      <td>1</td>\n",
       "      <td>0</td>\n",
       "      <td>0</td>\n",
       "    </tr>\n",
       "  </tbody>\n",
       "</table>\n",
       "</div>"
      ],
      "text/plain": [
       "                      offer received  offer viewed  offer completed\n",
       "customer_id offer_id                                               \n",
       "0           offer_4                1             1                0\n",
       "            offer_5                1             1                1\n",
       "            offer_6                2             2                1\n",
       "            offer_9                1             1                0\n",
       "1           offer_2                1             0                0"
      ]
     },
     "execution_count": 15,
     "metadata": {},
     "output_type": "execute_result"
    }
   ],
   "source": [
    "# organize main informations to calculate the journey's score\n",
    "dct_agg = {'offer received':'sum', 'offer viewed':'sum', 'offer completed':'sum'}\n",
    "df_journey = df_offers.groupby(['customer_id',  'offer_id']).agg(dct_agg)\n",
    "\n",
    "df_journey.head()"
   ]
  },
  {
   "cell_type": "markdown",
   "metadata": {},
   "source": [
    "**Cool!**  \n",
    "Now, we have a nice dataframe to work with, but there is no journey's score computated yet. Thus, I'll use the concept introduced before to calculate the journey's score for each pair customer - offer in dataframe above. "
   ]
  },
  {
   "cell_type": "code",
   "execution_count": 16,
   "metadata": {},
   "outputs": [],
   "source": [
    "def journey_score(n_received, n_viewed, n_completed):\n",
    "    \"\"\"\n",
    "    Calculate de journey score\n",
    "    \"\"\"\n",
    "    score = 0\n",
    "    \n",
    "    if n_completed <= n_viewed: score = 10 * (n_received + 3 * n_viewed + 5 * n_completed) / (9 * n_received)\n",
    "    else: score = 10 * (n_received + 8 * n_viewed)  /  (9 * n_received)\n",
    "    \n",
    "    return np.round(score, decimals = 2)\n",
    "\n",
    "def get_matrix(df):\n",
    "    \"\"\"\n",
    "    Gets the matrix that will feed the machine learning model\n",
    "    \"\"\"\n",
    "    lst_customer = df.index.get_level_values(0).unique()\n",
    "    lst_offer = df.index.get_level_values(1).sort_values().unique()\n",
    "    \n",
    "    dct_score = {}\n",
    "    \n",
    "    for offer in lst_offer:\n",
    "        lst_score = []\n",
    "        for customer in lst_customer: \n",
    "            try:  # the journey was offered to the customer\n",
    "                lst_score.append(df_journey.loc[customer, offer]['score'])\n",
    "            except: # the journey was not offered to the customer\n",
    "                lst_score.append(np.nan)\n",
    "                continue\n",
    "       \n",
    "        dct_score.update({offer : lst_score}) \n",
    "                \n",
    "    return dct_score\n"
   ]
  },
  {
   "cell_type": "code",
   "execution_count": 17,
   "metadata": {},
   "outputs": [
    {
     "data": {
      "text/html": [
       "<div>\n",
       "<style scoped>\n",
       "    .dataframe tbody tr th:only-of-type {\n",
       "        vertical-align: middle;\n",
       "    }\n",
       "\n",
       "    .dataframe tbody tr th {\n",
       "        vertical-align: top;\n",
       "    }\n",
       "\n",
       "    .dataframe thead th {\n",
       "        text-align: right;\n",
       "    }\n",
       "</style>\n",
       "<table border=\"1\" class=\"dataframe\">\n",
       "  <thead>\n",
       "    <tr style=\"text-align: right;\">\n",
       "      <th></th>\n",
       "      <th></th>\n",
       "      <th>offer received</th>\n",
       "      <th>offer viewed</th>\n",
       "      <th>offer completed</th>\n",
       "      <th>score</th>\n",
       "    </tr>\n",
       "    <tr>\n",
       "      <th>customer_id</th>\n",
       "      <th>offer_id</th>\n",
       "      <th></th>\n",
       "      <th></th>\n",
       "      <th></th>\n",
       "      <th></th>\n",
       "    </tr>\n",
       "  </thead>\n",
       "  <tbody>\n",
       "    <tr>\n",
       "      <th rowspan=\"4\" valign=\"top\">0</th>\n",
       "      <th>offer_4</th>\n",
       "      <td>1</td>\n",
       "      <td>1</td>\n",
       "      <td>0</td>\n",
       "      <td>4.44</td>\n",
       "    </tr>\n",
       "    <tr>\n",
       "      <th>offer_5</th>\n",
       "      <td>1</td>\n",
       "      <td>1</td>\n",
       "      <td>1</td>\n",
       "      <td>10.00</td>\n",
       "    </tr>\n",
       "    <tr>\n",
       "      <th>offer_6</th>\n",
       "      <td>2</td>\n",
       "      <td>2</td>\n",
       "      <td>1</td>\n",
       "      <td>7.22</td>\n",
       "    </tr>\n",
       "    <tr>\n",
       "      <th>offer_9</th>\n",
       "      <td>1</td>\n",
       "      <td>1</td>\n",
       "      <td>0</td>\n",
       "      <td>4.44</td>\n",
       "    </tr>\n",
       "    <tr>\n",
       "      <th>1</th>\n",
       "      <th>offer_2</th>\n",
       "      <td>1</td>\n",
       "      <td>0</td>\n",
       "      <td>0</td>\n",
       "      <td>1.11</td>\n",
       "    </tr>\n",
       "  </tbody>\n",
       "</table>\n",
       "</div>"
      ],
      "text/plain": [
       "                      offer received  offer viewed  offer completed  score\n",
       "customer_id offer_id                                                      \n",
       "0           offer_4                1             1                0   4.44\n",
       "            offer_5                1             1                1  10.00\n",
       "            offer_6                2             2                1   7.22\n",
       "            offer_9                1             1                0   4.44\n",
       "1           offer_2                1             0                0   1.11"
      ]
     },
     "execution_count": 17,
     "metadata": {},
     "output_type": "execute_result"
    }
   ],
   "source": [
    "# get score's column\n",
    "df_journey['score'] = [journey_score(df_journey.iloc[i , 0], df_journey.iloc[i , 1], df_journey.iloc[i , 2]) for i in range(df_journey.shape[0])]\n",
    "\n",
    "df_journey.head()"
   ]
  },
  {
   "cell_type": "code",
   "execution_count": 18,
   "metadata": {},
   "outputs": [
    {
     "name": "stdout",
     "output_type": "stream",
     "text": [
      "Average Journey's Score 5.67\n"
     ]
    }
   ],
   "source": [
    "print(\"Average Journey's Score\", np.round(df_journey['score'].mean(), decimals = 2))"
   ]
  },
  {
   "cell_type": "markdown",
   "metadata": {},
   "source": [
    "### Split train and test datasets"
   ]
  },
  {
   "cell_type": "code",
   "execution_count": 19,
   "metadata": {},
   "outputs": [
    {
     "name": "stdout",
     "output_type": "stream",
     "text": [
      "(63275, 4) (13, 4)\n"
     ]
    },
    {
     "data": {
      "text/html": [
       "<div>\n",
       "<style scoped>\n",
       "    .dataframe tbody tr th:only-of-type {\n",
       "        vertical-align: middle;\n",
       "    }\n",
       "\n",
       "    .dataframe tbody tr th {\n",
       "        vertical-align: top;\n",
       "    }\n",
       "\n",
       "    .dataframe thead th {\n",
       "        text-align: right;\n",
       "    }\n",
       "</style>\n",
       "<table border=\"1\" class=\"dataframe\">\n",
       "  <thead>\n",
       "    <tr style=\"text-align: right;\">\n",
       "      <th></th>\n",
       "      <th>offer_0</th>\n",
       "      <th>offer_1</th>\n",
       "      <th>offer_2</th>\n",
       "      <th>offer_3</th>\n",
       "      <th>offer_4</th>\n",
       "      <th>offer_5</th>\n",
       "      <th>offer_6</th>\n",
       "      <th>offer_7</th>\n",
       "      <th>offer_8</th>\n",
       "      <th>offer_9</th>\n",
       "    </tr>\n",
       "  </thead>\n",
       "  <tbody>\n",
       "    <tr>\n",
       "      <th>0</th>\n",
       "      <td>NaN</td>\n",
       "      <td>NaN</td>\n",
       "      <td>NaN</td>\n",
       "      <td>NaN</td>\n",
       "      <td>4.44</td>\n",
       "      <td>10.0</td>\n",
       "      <td>7.22</td>\n",
       "      <td>NaN</td>\n",
       "      <td>NaN</td>\n",
       "      <td>4.44</td>\n",
       "    </tr>\n",
       "    <tr>\n",
       "      <th>1</th>\n",
       "      <td>NaN</td>\n",
       "      <td>NaN</td>\n",
       "      <td>1.11</td>\n",
       "      <td>1.11</td>\n",
       "      <td>NaN</td>\n",
       "      <td>NaN</td>\n",
       "      <td>NaN</td>\n",
       "      <td>NaN</td>\n",
       "      <td>NaN</td>\n",
       "      <td>NaN</td>\n",
       "    </tr>\n",
       "    <tr>\n",
       "      <th>2</th>\n",
       "      <td>NaN</td>\n",
       "      <td>NaN</td>\n",
       "      <td>NaN</td>\n",
       "      <td>4.44</td>\n",
       "      <td>NaN</td>\n",
       "      <td>NaN</td>\n",
       "      <td>NaN</td>\n",
       "      <td>4.44</td>\n",
       "      <td>NaN</td>\n",
       "      <td>NaN</td>\n",
       "    </tr>\n",
       "    <tr>\n",
       "      <th>3</th>\n",
       "      <td>10.0</td>\n",
       "      <td>NaN</td>\n",
       "      <td>NaN</td>\n",
       "      <td>10.00</td>\n",
       "      <td>NaN</td>\n",
       "      <td>NaN</td>\n",
       "      <td>NaN</td>\n",
       "      <td>4.44</td>\n",
       "      <td>10.0</td>\n",
       "      <td>NaN</td>\n",
       "    </tr>\n",
       "    <tr>\n",
       "      <th>4</th>\n",
       "      <td>NaN</td>\n",
       "      <td>NaN</td>\n",
       "      <td>4.44</td>\n",
       "      <td>NaN</td>\n",
       "      <td>3.33</td>\n",
       "      <td>NaN</td>\n",
       "      <td>NaN</td>\n",
       "      <td>1.11</td>\n",
       "      <td>NaN</td>\n",
       "      <td>NaN</td>\n",
       "    </tr>\n",
       "  </tbody>\n",
       "</table>\n",
       "</div>"
      ],
      "text/plain": [
       "   offer_0  offer_1  offer_2  offer_3  offer_4  offer_5  offer_6  offer_7  \\\n",
       "0      NaN      NaN      NaN      NaN     4.44     10.0     7.22      NaN   \n",
       "1      NaN      NaN     1.11     1.11      NaN      NaN      NaN      NaN   \n",
       "2      NaN      NaN      NaN     4.44      NaN      NaN      NaN     4.44   \n",
       "3     10.0      NaN      NaN    10.00      NaN      NaN      NaN     4.44   \n",
       "4      NaN      NaN     4.44      NaN     3.33      NaN      NaN     1.11   \n",
       "\n",
       "   offer_8  offer_9  \n",
       "0      NaN     4.44  \n",
       "1      NaN      NaN  \n",
       "2      NaN      NaN  \n",
       "3     10.0      NaN  \n",
       "4      NaN      NaN  "
      ]
     },
     "execution_count": 19,
     "metadata": {},
     "output_type": "execute_result"
    }
   ],
   "source": [
    "def split_train_test(df):\n",
    "    \"\"\"\n",
    "    Split the dataframe into train and test parts\n",
    "    \"\"\"\n",
    "    df = df.reset_index()\n",
    "    \n",
    "    total_size = df.shape[0]\n",
    "    train_size = int(np.round(0.9998 * total_size))\n",
    "\n",
    "    #lst_train = list(random.sample(range(total_size), train_size))\n",
    "    #lst_test = list(set(range(63288)) - set(lst_train))\n",
    "    \n",
    "    lst_test = [12160, 15115, 21513, 25679, 27025, 29832, 33259, 37411, 39761, 44953, 45666, 50143, 50564]\n",
    "    lst_train = list(set(range(63288)) - set(lst_test))\n",
    "    \n",
    "    df_train = df.loc[lst_train].groupby(['customer_id', 'offer_id']).max()\n",
    "    df_test = df.loc[lst_test].groupby(['customer_id', 'offer_id']).max()\n",
    "\n",
    "    return df_train, df_test\n",
    "\n",
    "# split the df_journey in train and test\n",
    "df_journey_train, df_journey_test = split_train_test(df_journey)\n",
    "\n",
    "print (df_journey_train.shape, df_journey_test.shape)\n",
    "\n",
    "# df_matrix is a dataframe where rows mean customer_id and columns mean offer_id\n",
    "df_matrix = pd.DataFrame.from_dict(get_matrix(df_journey_train))\n",
    "\n",
    "df_matrix.head()"
   ]
  },
  {
   "cell_type": "code",
   "execution_count": 20,
   "metadata": {},
   "outputs": [
    {
     "data": {
      "text/plain": [
       "offer_0    10620\n",
       "offer_1    10664\n",
       "offer_2    10663\n",
       "offer_3    10639\n",
       "offer_4    10620\n",
       "offer_5    10669\n",
       "offer_6    10662\n",
       "offer_7    10674\n",
       "offer_8    10732\n",
       "offer_9    10709\n",
       "dtype: int64"
      ]
     },
     "execution_count": 20,
     "metadata": {},
     "output_type": "execute_result"
    }
   ],
   "source": [
    "df_matrix.isna().sum()"
   ]
  },
  {
   "cell_type": "markdown",
   "metadata": {},
   "source": [
    "## FunkSVD Algorithm\n",
    "\n",
    "Notice that the dataset is sparse because it has many NaN values. There are more than 10k NaN values in each column. It suggests that we use the FunkSVD algorithm, which was created to deal with such kind of problems."
   ]
  },
  {
   "cell_type": "code",
   "execution_count": 21,
   "metadata": {},
   "outputs": [],
   "source": [
    "def FunkSVD(matrix, learning_rate = 0.0005, latent_features = 10, iters = 500):\n",
    "    \"\"\"\n",
    "    Funk SVD algorithm \n",
    "    >>> ARGS:\n",
    "        matrix - np.arrays containing the journey's score (rows == customers_id, columns == offer_id)\n",
    "        learning_rate - the step's size for each interation\n",
    "        latent_features: the number of latent_features that will be used\n",
    "        iters: number of interations\n",
    "    <<< RETURN:\n",
    "        matrix customer: matrix customer X latent feature\n",
    "        matrix offer - matrix latent feature X offer\n",
    "    \"\"\"\n",
    "    \n",
    "    # control variables\n",
    "    n_customer = matrix.shape[0]\n",
    "    n_offer = matrix.shape[1]\n",
    "    n_journey = np.count_nonzero(~np.isnan(matrix))\n",
    "    \n",
    "    # first guess\n",
    "    matrix_customer = np.random.randn(n_customer, latent_features)\n",
    "    matrix_offer = np.random.randn(latent_features, n_offer)\n",
    "    \n",
    "    \n",
    "    plot_iteration = []\n",
    "    plot_sse = []\n",
    "    \n",
    "    \n",
    "    # FunkSVD algorithm\n",
    "    sse_accum = 0 \n",
    "    for iteration in range(iters):\n",
    "        \n",
    "        # renew the sum of squared error (sse)\n",
    "        old_sse = sse_accum\n",
    "        sse_accum = 0 \n",
    "        \n",
    "        for customer in range(n_customer):\n",
    "            for offer in range(n_offer):\n",
    "                if not np.isnan(matrix[customer, offer]):\n",
    "                    \n",
    "                    \n",
    "                    diff = matrix[customer, offer] - np.dot(matrix_customer[customer, :], matrix_offer[:, offer]) \n",
    "                    \n",
    "                    # calculate the new sse_accum\n",
    "                    \n",
    "                    sse_accum += diff ** 2\n",
    "                    for k in range(latent_features):\n",
    "                        \n",
    "                        # change the old guess for the new one\n",
    "                        matrix_customer[customer, k] += learning_rate * (2 * diff * matrix_offer[k, offer])\n",
    "                        matrix_offer[k, offer] += learning_rate * (2 * diff * matrix_customer[customer, k])\n",
    "        \n",
    "        #if iteration % 10 == 0:\n",
    "        plot_iteration.append(iteration)\n",
    "        plot_sse.append(np.round(sse_accum / n_journey, decimals = 2))\n",
    "    \n",
    "    plt.plot(plot_iteration, plot_sse);\n",
    "    plt.grid(linestyle='--')\n",
    "    plt.xlabel('Interaction');\n",
    "    plt.ylabel('Mean Squared Error');\n",
    "    plt.title('Mean Squared Error vs. Interaction');\n",
    "    \n",
    "    return matrix_customer, matrix_offer, np.round(sse_accum / n_journey, decimals = 2)\n",
    "\n",
    "def comparison(matrix_predict, df_test):\n",
    "    import math\n",
    "    dct_offer = {\n",
    "        'offer_0': 0, 'offer_1': 1, 'offer_2': 2, 'offer_3': 3, 'offer_4': 4,\n",
    "        'offer_5': 5, 'offer_6': 6, 'offer_7': 7, 'offer_8': 8, 'offer_9': 9,\n",
    "    }\n",
    "    \n",
    "    lst_customer_compare = df_test.index.get_level_values(0).unique()\n",
    "    \n",
    "    print(f'{\"Customer id\":<15}{\"Offer id\":<15}{\"Real Score\":<15}{\"Predicted Score\"}')\n",
    "    \n",
    "    error = 0\n",
    "    cter = 0\n",
    "    error_average = 0\n",
    "    \n",
    "    for customer in lst_customer_compare:\n",
    "        for offer in df_test.loc[customer].index:\n",
    "            score_real = df_journey_test.loc[customer, offer]['score']\n",
    "            score_pred = np.round(matrix_predict[customer][dct_offer[offer]], decimals = 2)\n",
    "            \n",
    "            print(f'{customer:<15}{offer:<15}{score_real:<15}{score_pred:.2f}')"
   ]
  },
  {
   "cell_type": "markdown",
   "metadata": {},
   "source": [
    "## Model Evaluation and Validation\n",
    "\n",
    "Now, the main part of recommendation engine is designed. Next we will evaluate how good is the model using the mean squared error. The model will predict the Journey's Score for customers in the test data set. "
   ]
  },
  {
   "cell_type": "markdown",
   "metadata": {},
   "source": [
    "### First Attempt\n",
    "\n",
    "We're going to Keep the **learning rate** and **number of iterations** constant while we increase the number of **latent features** and see how they affect our results."
   ]
  },
  {
   "cell_type": "markdown",
   "metadata": {},
   "source": [
    "#### 10 Latent Features"
   ]
  },
  {
   "cell_type": "code",
   "execution_count": 148,
   "metadata": {},
   "outputs": [
    {
     "name": "stdout",
     "output_type": "stream",
     "text": [
      "Mean Squared Error 5.1\n",
      "Customer id    Offer id       Real Score     Predicted Score\n",
      "3271           offer_5        4.44           11.00\n",
      "4059           offer_2        4.44           3.53\n",
      "5783           offer_8        10.0           6.65\n",
      "6895           offer_2        4.44           3.49\n",
      "7258           offer_9        1.11           4.43\n",
      "8000           offer_6        10.0           5.58\n",
      "8913           offer_8        10.0           6.94\n",
      "10032          offer_2        2.78           2.99\n",
      "10656          offer_0        4.44           5.02\n",
      "12047          offer_4        1.11           2.31\n",
      "12236          offer_0        4.44           6.36\n",
      "13445          offer_1        10.0           6.73\n",
      "13554          offer_8        1.11           4.09\n"
     ]
    },
    {
     "data": {
      "image/png": "[encoded data removed]",
      "text/plain": [
       "<matplotlib.figure.Figure at 0x7f532bf950f0>"
      ]
     },
     "metadata": {
      "needs_background": "light"
     },
     "output_type": "display_data"
    }
   ],
   "source": [
    "matrix_customer, matrix_offer, mean_sqrt_erro = FunkSVD(df_matrix.values, learning_rate = 0.0001, latent_features = 10, iters = 250)\n",
    "print('Mean Squared Error', mean_sqrt_erro)\n",
    "\n",
    "matrix_predict = np.dot(matrix_customer, matrix_offer)\n",
    "comparison(matrix_predict, df_journey_test)"
   ]
  },
  {
   "cell_type": "markdown",
   "metadata": {},
   "source": [
    "#### 20 Latent Features "
   ]
  },
  {
   "cell_type": "code",
   "execution_count": 149,
   "metadata": {},
   "outputs": [
    {
     "name": "stdout",
     "output_type": "stream",
     "text": [
      "Mean Squared Error 4.94\n",
      "Customer id    Offer id       Real Score     Predicted Score\n",
      "3271           offer_5        4.44           10.92\n",
      "4059           offer_2        4.44           3.76\n",
      "5783           offer_8        10.0           6.55\n",
      "6895           offer_2        4.44           3.62\n",
      "7258           offer_9        1.11           5.90\n",
      "8000           offer_6        10.0           6.10\n",
      "8913           offer_8        10.0           6.65\n",
      "10032          offer_2        2.78           2.50\n",
      "10656          offer_0        4.44           4.60\n",
      "12047          offer_4        1.11           1.57\n",
      "12236          offer_0        4.44           5.96\n",
      "13445          offer_1        10.0           8.12\n",
      "13554          offer_8        1.11           3.32\n"
     ]
    },
    {
     "data": {
      "image/png": "[encoded data removed]",
      "text/plain": [
       "<matplotlib.figure.Figure at 0x7f532bfbdef0>"
      ]
     },
     "metadata": {
      "needs_background": "light"
     },
     "output_type": "display_data"
    }
   ],
   "source": [
    "matrix_customer, matrix_offer, mean_sqrt_erro = FunkSVD(df_matrix.values, learning_rate = 0.0001, latent_features = 20, iters = 250)\n",
    "print('Mean Squared Error', mean_sqrt_erro)\n",
    "\n",
    "matrix_predict = np.dot(matrix_customer, matrix_offer)\n",
    "comparison(matrix_predict, df_journey_test)"
   ]
  },
  {
   "cell_type": "markdown",
   "metadata": {},
   "source": [
    "#### 30 Latent Features"
   ]
  },
  {
   "cell_type": "code",
   "execution_count": 150,
   "metadata": {},
   "outputs": [
    {
     "name": "stdout",
     "output_type": "stream",
     "text": [
      "Mean Squared Error 4.89\n",
      "Customer id    Offer id       Real Score     Predicted Score\n",
      "3271           offer_5        4.44           11.18\n",
      "4059           offer_2        4.44           3.57\n",
      "5783           offer_8        10.0           6.26\n",
      "6895           offer_2        4.44           3.23\n",
      "7258           offer_9        1.11           6.53\n",
      "8000           offer_6        10.0           4.92\n",
      "8913           offer_8        10.0           6.87\n",
      "10032          offer_2        2.78           3.30\n",
      "10656          offer_0        4.44           5.53\n",
      "12047          offer_4        1.11           2.25\n",
      "12236          offer_0        4.44           5.65\n",
      "13445          offer_1        10.0           10.53\n",
      "13554          offer_8        1.11           3.95\n"
     ]
    },
    {
     "data": {
      "image/png": "[encoded data removed]",
      "text/plain": [
       "<matplotlib.figure.Figure at 0x7f532bff7128>"
      ]
     },
     "metadata": {
      "needs_background": "light"
     },
     "output_type": "display_data"
    }
   ],
   "source": [
    "matrix_customer, matrix_offer, mean_sqrt_erro = FunkSVD(df_matrix.values, learning_rate = 0.0001, latent_features = 30, iters = 250)\n",
    "print('Mean Squared Error', mean_sqrt_erro)\n",
    "\n",
    "matrix_predict = np.dot(matrix_customer, matrix_offer)\n",
    "comparison(matrix_predict, df_journey_test)"
   ]
  },
  {
   "cell_type": "markdown",
   "metadata": {},
   "source": [
    "#### 50 Latent Features"
   ]
  },
  {
   "cell_type": "code",
   "execution_count": 151,
   "metadata": {},
   "outputs": [
    {
     "name": "stdout",
     "output_type": "stream",
     "text": [
      "Mean Squared Error 4.86\n",
      "Customer id    Offer id       Real Score     Predicted Score\n",
      "3271           offer_5        4.44           10.26\n",
      "4059           offer_2        4.44           4.15\n",
      "5783           offer_8        10.0           7.47\n",
      "6895           offer_2        4.44           3.58\n",
      "7258           offer_9        1.11           5.11\n",
      "8000           offer_6        10.0           5.31\n",
      "8913           offer_8        10.0           6.97\n",
      "10032          offer_2        2.78           2.59\n",
      "10656          offer_0        4.44           4.30\n",
      "12047          offer_4        1.11           2.56\n",
      "12236          offer_0        4.44           5.84\n",
      "13445          offer_1        10.0           8.84\n",
      "13554          offer_8        1.11           4.10\n"
     ]
    },
    {
     "data": {
      "image/png": "[encoded data removed]",
      "text/plain": [
       "<matplotlib.figure.Figure at 0x7f532bf505f8>"
      ]
     },
     "metadata": {
      "needs_background": "light"
     },
     "output_type": "display_data"
    }
   ],
   "source": [
    "matrix_customer, matrix_offer, mean_sqrt_erro = FunkSVD(df_matrix.values, learning_rate = 0.0001, latent_features = 50, iters = 250)\n",
    "print('Mean Squared Error', mean_sqrt_erro)\n",
    "\n",
    "matrix_predict = np.dot(matrix_customer, matrix_offer)\n",
    "comparison(matrix_predict, df_journey_test)"
   ]
  },
  {
   "cell_type": "markdown",
   "metadata": {},
   "source": [
    "#### 100 Latent Features"
   ]
  },
  {
   "cell_type": "code",
   "execution_count": 152,
   "metadata": {},
   "outputs": [
    {
     "name": "stdout",
     "output_type": "stream",
     "text": [
      "Mean Squared Error 4.71\n",
      "Customer id    Offer id       Real Score     Predicted Score\n",
      "3271           offer_5        4.44           11.34\n",
      "4059           offer_2        4.44           3.99\n",
      "5783           offer_8        10.0           6.60\n",
      "6895           offer_2        4.44           3.18\n",
      "7258           offer_9        1.11           5.06\n",
      "8000           offer_6        10.0           5.45\n",
      "8913           offer_8        10.0           6.60\n",
      "10032          offer_2        2.78           3.33\n",
      "10656          offer_0        4.44           5.58\n",
      "12047          offer_4        1.11           2.92\n",
      "12236          offer_0        4.44           4.30\n",
      "13445          offer_1        10.0           8.26\n",
      "13554          offer_8        1.11           4.44\n"
     ]
    },
    {
     "data": {
      "image/png": "[encoded data removed]",
      "text/plain": [
       "<matplotlib.figure.Figure at 0x7f532bf45908>"
      ]
     },
     "metadata": {
      "needs_background": "light"
     },
     "output_type": "display_data"
    }
   ],
   "source": [
    "matrix_customer, matrix_offer, mean_sqrt_erro = FunkSVD(df_matrix.values, learning_rate = 0.0001, latent_features = 100, iters = 250)\n",
    "print('Mean Squared Error', mean_sqrt_erro)\n",
    "\n",
    "matrix_predict = np.dot(matrix_customer, matrix_offer)\n",
    "comparison(matrix_predict, df_journey_test)"
   ]
  },
  {
   "cell_type": "markdown",
   "metadata": {},
   "source": [
    "Notice that the mean square error remains constant as we increase the number of latent features, however, it converges faster for higher number of latent features. "
   ]
  },
  {
   "cell_type": "markdown",
   "metadata": {},
   "source": [
    "### Second Attempt\n",
    "Now we're going to keep the number of **latent features** and number of iteractions constant while we increase the **learning rate**."
   ]
  },
  {
   "cell_type": "markdown",
   "metadata": {},
   "source": [
    "#### Learning Rate 0.005"
   ]
  },
  {
   "cell_type": "code",
   "execution_count": 155,
   "metadata": {},
   "outputs": [
    {
     "name": "stderr",
     "output_type": "stream",
     "text": [
      "/opt/conda/lib/python3.6/site-packages/ipykernel_launcher.py:45: RuntimeWarning: overflow encountered in double_scalars\n",
      "/opt/conda/lib/python3.6/site-packages/ipykernel_launcher.py:49: RuntimeWarning: overflow encountered in double_scalars\n",
      "/opt/conda/lib/python3.6/site-packages/ipykernel_launcher.py:50: RuntimeWarning: overflow encountered in double_scalars\n"
     ]
    },
    {
     "ename": "KeyboardInterrupt",
     "evalue": "",
     "output_type": "error",
     "traceback": [
      "\u001b[0;31m---------------------------------------------------------------------------\u001b[0m",
      "\u001b[0;31mKeyboardInterrupt\u001b[0m                         Traceback (most recent call last)",
      "\u001b[0;32m<ipython-input-155-68c405644fdc>\u001b[0m in \u001b[0;36m<module>\u001b[0;34m()\u001b[0m\n\u001b[0;32m----> 1\u001b[0;31m \u001b[0mmatrix_customer\u001b[0m\u001b[0;34m,\u001b[0m \u001b[0mmatrix_offer\u001b[0m\u001b[0;34m,\u001b[0m \u001b[0mmean_sqrt_erro\u001b[0m \u001b[0;34m=\u001b[0m \u001b[0mFunkSVD\u001b[0m\u001b[0;34m(\u001b[0m\u001b[0mdf_matrix\u001b[0m\u001b[0;34m.\u001b[0m\u001b[0mvalues\u001b[0m\u001b[0;34m,\u001b[0m \u001b[0mlearning_rate\u001b[0m \u001b[0;34m=\u001b[0m \u001b[0;36m0.005\u001b[0m\u001b[0;34m,\u001b[0m \u001b[0mlatent_features\u001b[0m \u001b[0;34m=\u001b[0m \u001b[0;36m100\u001b[0m\u001b[0;34m,\u001b[0m \u001b[0miters\u001b[0m \u001b[0;34m=\u001b[0m \u001b[0;36m250\u001b[0m\u001b[0;34m)\u001b[0m\u001b[0;34m\u001b[0m\u001b[0m\n\u001b[0m\u001b[1;32m      2\u001b[0m \u001b[0mprint\u001b[0m\u001b[0;34m(\u001b[0m\u001b[0;34m'Mean Squared Error'\u001b[0m\u001b[0;34m,\u001b[0m \u001b[0mmean_sqrt_erro\u001b[0m\u001b[0;34m)\u001b[0m\u001b[0;34m\u001b[0m\u001b[0m\n\u001b[1;32m      3\u001b[0m \u001b[0;34m\u001b[0m\u001b[0m\n\u001b[1;32m      4\u001b[0m \u001b[0mmatrix_predict\u001b[0m \u001b[0;34m=\u001b[0m \u001b[0mnp\u001b[0m\u001b[0;34m.\u001b[0m\u001b[0mdot\u001b[0m\u001b[0;34m(\u001b[0m\u001b[0mmatrix_customer\u001b[0m\u001b[0;34m,\u001b[0m \u001b[0mmatrix_offer\u001b[0m\u001b[0;34m)\u001b[0m\u001b[0;34m\u001b[0m\u001b[0m\n\u001b[1;32m      5\u001b[0m \u001b[0mcomparison\u001b[0m\u001b[0;34m(\u001b[0m\u001b[0mmatrix_predict\u001b[0m\u001b[0;34m,\u001b[0m \u001b[0mdf_journey_test\u001b[0m\u001b[0;34m)\u001b[0m\u001b[0;34m\u001b[0m\u001b[0m\n",
      "\u001b[0;32m<ipython-input-147-a104b42d0748>\u001b[0m in \u001b[0;36mFunkSVD\u001b[0;34m(matrix, learning_rate, latent_features, iters)\u001b[0m\n\u001b[1;32m     47\u001b[0m \u001b[0;34m\u001b[0m\u001b[0m\n\u001b[1;32m     48\u001b[0m                         \u001b[0;31m# change the old guess for the new one\u001b[0m\u001b[0;34m\u001b[0m\u001b[0;34m\u001b[0m\u001b[0m\n\u001b[0;32m---> 49\u001b[0;31m                         \u001b[0mmatrix_customer\u001b[0m\u001b[0;34m[\u001b[0m\u001b[0mcustomer\u001b[0m\u001b[0;34m,\u001b[0m \u001b[0mk\u001b[0m\u001b[0;34m]\u001b[0m \u001b[0;34m+=\u001b[0m \u001b[0mlearning_rate\u001b[0m \u001b[0;34m*\u001b[0m \u001b[0;34m(\u001b[0m\u001b[0;36m2\u001b[0m \u001b[0;34m*\u001b[0m \u001b[0mdiff\u001b[0m \u001b[0;34m*\u001b[0m \u001b[0mmatrix_offer\u001b[0m\u001b[0;34m[\u001b[0m\u001b[0mk\u001b[0m\u001b[0;34m,\u001b[0m \u001b[0moffer\u001b[0m\u001b[0;34m]\u001b[0m\u001b[0;34m)\u001b[0m\u001b[0;34m\u001b[0m\u001b[0m\n\u001b[0m\u001b[1;32m     50\u001b[0m                         \u001b[0mmatrix_offer\u001b[0m\u001b[0;34m[\u001b[0m\u001b[0mk\u001b[0m\u001b[0;34m,\u001b[0m \u001b[0moffer\u001b[0m\u001b[0;34m]\u001b[0m \u001b[0;34m+=\u001b[0m \u001b[0mlearning_rate\u001b[0m \u001b[0;34m*\u001b[0m \u001b[0;34m(\u001b[0m\u001b[0;36m2\u001b[0m \u001b[0;34m*\u001b[0m \u001b[0mdiff\u001b[0m \u001b[0;34m*\u001b[0m \u001b[0mmatrix_customer\u001b[0m\u001b[0;34m[\u001b[0m\u001b[0mcustomer\u001b[0m\u001b[0;34m,\u001b[0m \u001b[0mk\u001b[0m\u001b[0;34m]\u001b[0m\u001b[0;34m)\u001b[0m\u001b[0;34m\u001b[0m\u001b[0m\n\u001b[1;32m     51\u001b[0m \u001b[0;34m\u001b[0m\u001b[0m\n",
      "\u001b[0;31mKeyboardInterrupt\u001b[0m: "
     ]
    }
   ],
   "source": [
    "matrix_customer, matrix_offer, mean_sqrt_erro = FunkSVD(df_matrix.values, learning_rate = 0.005, latent_features = 100, iters = 250)\n",
    "print('Mean Squared Error', mean_sqrt_erro)\n",
    "\n",
    "matrix_predict = np.dot(matrix_customer, matrix_offer)\n",
    "comparison(matrix_predict, df_journey_test)"
   ]
  },
  {
   "cell_type": "markdown",
   "metadata": {},
   "source": [
    "Here we can see that a learning rate as high as 0.005 throws a python error. Then, we're going to start with a considerably lower number.\n",
    "\n",
    "#### Learning Rate 0.0003"
   ]
  },
  {
   "cell_type": "code",
   "execution_count": 156,
   "metadata": {},
   "outputs": [
    {
     "name": "stdout",
     "output_type": "stream",
     "text": [
      "Mean Squared Error 3.76\n",
      "Customer id    Offer id       Real Score     Predicted Score\n",
      "3271           offer_5        4.44           11.40\n",
      "4059           offer_2        4.44           2.95\n",
      "5783           offer_8        10.0           7.23\n",
      "6895           offer_2        4.44           3.00\n",
      "7258           offer_9        1.11           3.99\n",
      "8000           offer_6        10.0           5.27\n",
      "8913           offer_8        10.0           7.32\n",
      "10032          offer_2        2.78           3.64\n",
      "10656          offer_0        4.44           2.97\n",
      "12047          offer_4        1.11           3.48\n",
      "12236          offer_0        4.44           7.11\n",
      "13445          offer_1        10.0           9.79\n",
      "13554          offer_8        1.11           4.74\n"
     ]
    },
    {
     "data": {
      "image/png": "[encoded data removed]",
      "text/plain": [
       "<matplotlib.figure.Figure at 0x7f532be94668>"
      ]
     },
     "metadata": {
      "needs_background": "light"
     },
     "output_type": "display_data"
    }
   ],
   "source": [
    "matrix_customer, matrix_offer, mean_sqrt_erro = FunkSVD(df_matrix.values, learning_rate = 0.0003, latent_features = 100, iters = 250)\n",
    "print('Mean Squared Error', mean_sqrt_erro)\n",
    "\n",
    "matrix_predict = np.dot(matrix_customer, matrix_offer)\n",
    "comparison(matrix_predict, df_journey_test)"
   ]
  },
  {
   "cell_type": "markdown",
   "metadata": {},
   "source": [
    "#### Learning Rate 0.0005"
   ]
  },
  {
   "cell_type": "code",
   "execution_count": 157,
   "metadata": {},
   "outputs": [
    {
     "name": "stdout",
     "output_type": "stream",
     "text": [
      "Mean Squared Error 1.91\n",
      "Customer id    Offer id       Real Score     Predicted Score\n",
      "3271           offer_5        4.44           10.45\n",
      "4059           offer_2        4.44           3.65\n",
      "5783           offer_8        10.0           10.80\n",
      "6895           offer_2        4.44           2.87\n",
      "7258           offer_9        1.11           2.97\n",
      "8000           offer_6        10.0           8.44\n",
      "8913           offer_8        10.0           8.76\n",
      "10032          offer_2        2.78           3.21\n",
      "10656          offer_0        4.44           9.86\n",
      "12047          offer_4        1.11           1.18\n",
      "12236          offer_0        4.44           1.99\n",
      "13445          offer_1        10.0           8.39\n",
      "13554          offer_8        1.11           4.92\n"
     ]
    },
    {
     "data": {
      "image/png": "[encoded data removed]",
      "text/plain": [
       "<matplotlib.figure.Figure at 0x7f532beb84a8>"
      ]
     },
     "metadata": {
      "needs_background": "light"
     },
     "output_type": "display_data"
    }
   ],
   "source": [
    "matrix_customer, matrix_offer, mean_sqrt_erro = FunkSVD(df_matrix.values, learning_rate = 0.0005, latent_features = 100, iters = 250)\n",
    "print('Mean Squared Error', mean_sqrt_erro)\n",
    "\n",
    "matrix_predict = np.dot(matrix_customer, matrix_offer)\n",
    "comparison(matrix_predict, df_journey_test)"
   ]
  },
  {
   "cell_type": "markdown",
   "metadata": {},
   "source": [
    "#### Learning Rate 0.0008"
   ]
  },
  {
   "cell_type": "code",
   "execution_count": 158,
   "metadata": {},
   "outputs": [
    {
     "name": "stdout",
     "output_type": "stream",
     "text": [
      "Mean Squared Error 0.84\n",
      "Customer id    Offer id       Real Score     Predicted Score\n",
      "3271           offer_5        4.44           10.24\n",
      "4059           offer_2        4.44           3.96\n",
      "5783           offer_8        10.0           7.10\n",
      "6895           offer_2        4.44           3.34\n",
      "7258           offer_9        1.11           1.25\n",
      "8000           offer_6        10.0           2.73\n",
      "8913           offer_8        10.0           3.56\n",
      "10032          offer_2        2.78           4.28\n",
      "10656          offer_0        4.44           10.51\n",
      "12047          offer_4        1.11           2.16\n",
      "12236          offer_0        4.44           5.99\n",
      "13445          offer_1        10.0           13.81\n",
      "13554          offer_8        1.11           3.94\n"
     ]
    },
    {
     "data": {
      "image/png": "[encoded data removed]",
      "text/plain": [
       "<matplotlib.figure.Figure at 0x7f532be72550>"
      ]
     },
     "metadata": {
      "needs_background": "light"
     },
     "output_type": "display_data"
    }
   ],
   "source": [
    "matrix_customer, matrix_offer, mean_sqrt_erro = FunkSVD(df_matrix.values, learning_rate = 0.0008, latent_features = 100, iters = 250)\n",
    "print('Mean Squared Error', mean_sqrt_erro)\n",
    "\n",
    "matrix_predict = np.dot(matrix_customer, matrix_offer)\n",
    "comparison(matrix_predict, df_journey_test)"
   ]
  },
  {
   "cell_type": "markdown",
   "metadata": {},
   "source": [
    "Notice that we've got a way better mean squared error, as good as 0.84 when we used a learning rate of 0.0008 !"
   ]
  },
  {
   "cell_type": "markdown",
   "metadata": {},
   "source": [
    "### Third Attempt\n",
    "\n",
    "We're going to keep the **latent features** and **learning rate** constant while we increase the number of **iterations**.\n",
    "\n",
    "#### 500 Iterations"
   ]
  },
  {
   "cell_type": "code",
   "execution_count": 159,
   "metadata": {},
   "outputs": [
    {
     "name": "stdout",
     "output_type": "stream",
     "text": [
      "Mean Squared Error 0.48\n",
      "Customer id    Offer id       Real Score     Predicted Score\n",
      "3271           offer_5        4.44           10.44\n",
      "4059           offer_2        4.44           5.70\n",
      "5783           offer_8        10.0           9.37\n",
      "6895           offer_2        4.44           4.25\n",
      "7258           offer_9        1.11           5.79\n",
      "8000           offer_6        10.0           9.57\n",
      "8913           offer_8        10.0           8.71\n",
      "10032          offer_2        2.78           3.97\n",
      "10656          offer_0        4.44           12.37\n",
      "12047          offer_4        1.11           4.86\n",
      "12236          offer_0        4.44           0.29\n",
      "13445          offer_1        10.0           13.35\n",
      "13554          offer_8        1.11           5.38\n"
     ]
    },
    {
     "data": {
      "image/png": "[encoded data removed]",
      "text/plain": [
       "<matplotlib.figure.Figure at 0x7f532be4a4e0>"
      ]
     },
     "metadata": {
      "needs_background": "light"
     },
     "output_type": "display_data"
    }
   ],
   "source": [
    "matrix_customer, matrix_offer, mean_sqrt_erro = FunkSVD(df_matrix.values, learning_rate = 0.0005, latent_features = 100, iters = 500)\n",
    "print('Mean Squared Error', mean_sqrt_erro)\n",
    "\n",
    "matrix_predict = np.dot(matrix_customer, matrix_offer)\n",
    "comparison(matrix_predict, df_journey_test)"
   ]
  },
  {
   "cell_type": "markdown",
   "metadata": {},
   "source": [
    "#### 700 iterations"
   ]
  },
  {
   "cell_type": "code",
   "execution_count": 160,
   "metadata": {},
   "outputs": [
    {
     "name": "stdout",
     "output_type": "stream",
     "text": [
      "Mean Squared Error 0.21\n",
      "Customer id    Offer id       Real Score     Predicted Score\n",
      "3271           offer_5        4.44           10.39\n",
      "4059           offer_2        4.44           0.69\n",
      "5783           offer_8        10.0           2.70\n",
      "6895           offer_2        4.44           4.34\n",
      "7258           offer_9        1.11           -1.34\n",
      "8000           offer_6        10.0           8.01\n",
      "8913           offer_8        10.0           1.52\n",
      "10032          offer_2        2.78           4.63\n",
      "10656          offer_0        4.44           3.93\n",
      "12047          offer_4        1.11           4.28\n",
      "12236          offer_0        4.44           1.63\n",
      "13445          offer_1        10.0           11.67\n",
      "13554          offer_8        1.11           4.90\n"
     ]
    },
    {
     "data": {
      "image/png": "[encoded data removed]",
      "text/plain": [
       "<matplotlib.figure.Figure at 0x7f532be80630>"
      ]
     },
     "metadata": {
      "needs_background": "light"
     },
     "output_type": "display_data"
    }
   ],
   "source": [
    "matrix_customer, matrix_offer, mean_sqrt_erro = FunkSVD(df_matrix.values, learning_rate = 0.0005, latent_features = 100, iters = 700)\n",
    "print('Mean Squared Error', mean_sqrt_erro)\n",
    "\n",
    "matrix_predict = np.dot(matrix_customer, matrix_offer)\n",
    "comparison(matrix_predict, df_journey_test)"
   ]
  },
  {
   "cell_type": "markdown",
   "metadata": {},
   "source": [
    "Notice that after 600 iterations the mean square error is almost zero, awesome results!"
   ]
  },
  {
   "cell_type": "markdown",
   "metadata": {},
   "source": [
    "## Recommendation Results\n",
    "\n",
    "Now that we have our model, we will look how its perfomance for a random customer. We took the customer 1500 as example."
   ]
  },
  {
   "cell_type": "code",
   "execution_count": 42,
   "metadata": {},
   "outputs": [
    {
     "name": "stdout",
     "output_type": "stream",
     "text": [
      "[   nan  10.      nan    nan  10.      nan    nan   4.44  10.      nan]\n",
      "[  8.54  11.27   3.91   5.04   9.38   8.64   9.99   4.5   10.35   8.07]\n"
     ]
    }
   ],
   "source": [
    "cust = 1500\n",
    "print(df_matrix.loc[cust].values)\n",
    "print(np.round(matrix_predict[cust], decimals = 2))"
   ]
  },
  {
   "cell_type": "markdown",
   "metadata": {},
   "source": [
    "We can see that the predicted values are pretty close to the actual values. That makes us believe that the prediction for NaN values are accurate as well.\n",
    "\n",
    "Finally, we need to decice which offers we're going to recommend to user 1500. Here, we will recommend offers where the journey's score is above the dataset mean (5.67). "
   ]
  },
  {
   "cell_type": "code",
   "execution_count": 56,
   "metadata": {},
   "outputs": [
    {
     "name": "stdout",
     "output_type": "stream",
     "text": [
      "To customer 1500, we recommend the following offers:  ['offer_0', 'offer_1', 'offer_4', 'offer_5', 'offer_6', 'offer_8', 'offer_9']\n"
     ]
    }
   ],
   "source": [
    "def recommend(customer_id, average_score, matrix_predict = matrix_predict):\n",
    "    \n",
    "    lst_to_recommend = []\n",
    "    for i, score in enumerate(matrix_predict[customer_id]):\n",
    "        if score > average_score: \n",
    "            lst_to_recommend.append('offer_' + str(i))\n",
    "            \n",
    "    return lst_to_recommend\n",
    "\n",
    "print(\"To customer 1500, we recommend the following offers: \", recommend(1500, 5.67))"
   ]
  },
  {
   "cell_type": "markdown",
   "metadata": {},
   "source": [
    "### References\n",
    "Introduction to ML  https://medium.com/towards-artificial-intelligence/machine-learning-algorithms-for-beginners-with-python-code-examples-ml-19c6afd60daa\n",
    "\n",
    "FunkSVD  \n",
    "https://medium.com/datadriveninvestor/how-funk-singular-value-decomposition-algorithm-work-in-recommendation-engines-36f2fbf62cac  \n",
    "https://www.youtube.com/watch?v=ZspR5PZemcs\n",
    "\n",
    "Fraud detection  \n",
    "https://www.kaggle.com/janiobachmann/credit-fraud-dealing-with-imbalanced-datasets"
   ]
  },
  {
   "cell_type": "code",
   "execution_count": null,
   "metadata": {},
   "outputs": [],
   "source": [
    "Premissa - estudar como escrever caso 1/2/1"
   ]
  }
 ],
 "metadata": {
  "kernelspec": {
   "display_name": "Python 3",
   "language": "python",
   "name": "python3"
  },
  "language_info": {
   "codemirror_mode": {
    "name": "ipython",
    "version": 3
   },
   "file_extension": ".py",
   "mimetype": "text/x-python",
   "name": "python",
   "nbconvert_exporter": "python",
   "pygments_lexer": "ipython3",
   "version": "3.7.6"
  }
 },
 "nbformat": 4,
 "nbformat_minor": 4
}
